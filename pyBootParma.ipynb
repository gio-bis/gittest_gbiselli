{
  "nbformat": 4,
  "nbformat_minor": 0,
  "metadata": {
    "colab": {
      "name": "pyBootParma.ipynb",
      "provenance": [],
      "authorship_tag": "ABX9TyPFAg4ikNjFgJ0BXvY2UH4Z",
      "include_colab_link": true
    },
    "kernelspec": {
      "name": "python3",
      "display_name": "Python 3"
    }
  },
  "cells": [
    {
      "cell_type": "markdown",
      "metadata": {
        "id": "view-in-github",
        "colab_type": "text"
      },
      "source": [
        "<a href=\"https://colab.research.google.com/github/gio-bis/gittest_gbiselli/blob/main/pyBootParma.ipynb\" target=\"_parent\"><img src=\"https://colab.research.google.com/assets/colab-badge.svg\" alt=\"Open In Colab\"/></a>"
      ]
    },
    {
      "cell_type": "code",
      "metadata": {
        "id": "N5ZjIeDLWTuR"
      },
      "source": [
        ""
      ],
      "execution_count": 600,
      "outputs": []
    },
    {
      "cell_type": "markdown",
      "metadata": {
        "id": "Mm2SsDdOW1K-"
      },
      "source": [
        "# hello"
      ]
    },
    {
      "cell_type": "markdown",
      "metadata": {
        "id": "sli4aiEfXYka"
      },
      "source": [
        "Questa è una prova per imparare cose\n"
      ]
    },
    {
      "cell_type": "code",
      "metadata": {
        "id": "7WGKOEPEXeAT"
      },
      "source": [
        "# bla bla bla"
      ],
      "execution_count": 601,
      "outputs": []
    },
    {
      "cell_type": "code",
      "metadata": {
        "colab": {
          "base_uri": "https://localhost:8080/"
        },
        "id": "plhTmPErdDgl",
        "outputId": "eb0a168a-e5ab-44b0-e1e0-1110a975a41d"
      },
      "source": [
        "print (\"hello\")"
      ],
      "execution_count": 602,
      "outputs": [
        {
          "output_type": "stream",
          "text": [
            "hello\n"
          ],
          "name": "stdout"
        }
      ]
    },
    {
      "cell_type": "code",
      "metadata": {
        "id": "PFPcNmU_drRF"
      },
      "source": [
        "from __future__ import print_function, division"
      ],
      "execution_count": 603,
      "outputs": []
    },
    {
      "cell_type": "code",
      "metadata": {
        "id": "lneAxd4pekD-"
      },
      "source": [
        "stringVariable = \"hello!\""
      ],
      "execution_count": 604,
      "outputs": []
    },
    {
      "cell_type": "code",
      "metadata": {
        "colab": {
          "base_uri": "https://localhost:8080/"
        },
        "id": "mzym2hQ5gAh-",
        "outputId": "cf39ec82-538b-404e-fcf5-c3d50e605267"
      },
      "source": [
        "print (stringVariable)"
      ],
      "execution_count": 605,
      "outputs": [
        {
          "output_type": "stream",
          "text": [
            "hello!\n"
          ],
          "name": "stdout"
        }
      ]
    },
    {
      "cell_type": "code",
      "metadata": {
        "colab": {
          "base_uri": "https://localhost:8080/"
        },
        "id": "fTR4iKLPgHXJ",
        "outputId": "1c0ecce0-3278-44de-bfb6-403907262ec3"
      },
      "source": [
        "print (stringVariable)"
      ],
      "execution_count": 606,
      "outputs": [
        {
          "output_type": "stream",
          "text": [
            "hello!\n"
          ],
          "name": "stdout"
        }
      ]
    },
    {
      "cell_type": "code",
      "metadata": {
        "id": "fzEEequxgfvE"
      },
      "source": [
        "intVariable = 3"
      ],
      "execution_count": 607,
      "outputs": []
    },
    {
      "cell_type": "code",
      "metadata": {
        "colab": {
          "base_uri": "https://localhost:8080/"
        },
        "id": "WZYHee_HhA5Z",
        "outputId": "f57d5857-6057-4bc4-a8ba-37b6e9935e6f"
      },
      "source": [
        "type(intVariable)"
      ],
      "execution_count": 608,
      "outputs": [
        {
          "output_type": "execute_result",
          "data": {
            "text/plain": [
              "int"
            ]
          },
          "metadata": {
            "tags": []
          },
          "execution_count": 608
        }
      ]
    },
    {
      "cell_type": "code",
      "metadata": {
        "colab": {
          "base_uri": "https://localhost:8080/"
        },
        "id": "jkLlgWNBhFA4",
        "outputId": "5ebf01af-96b8-4885-8ef5-766965082e77"
      },
      "source": [
        "type(stringVariable)"
      ],
      "execution_count": 609,
      "outputs": [
        {
          "output_type": "execute_result",
          "data": {
            "text/plain": [
              "str"
            ]
          },
          "metadata": {
            "tags": []
          },
          "execution_count": 609
        }
      ]
    },
    {
      "cell_type": "code",
      "metadata": {
        "id": "nVvsG8jchH5f"
      },
      "source": [
        "floatVariable = 3."
      ],
      "execution_count": 610,
      "outputs": []
    },
    {
      "cell_type": "code",
      "metadata": {
        "colab": {
          "base_uri": "https://localhost:8080/"
        },
        "id": "QY0VMzJghMDL",
        "outputId": "482ff719-a9bb-4237-84dc-d7d6fdef4e0c"
      },
      "source": [
        "type(floatVariable)"
      ],
      "execution_count": 611,
      "outputs": [
        {
          "output_type": "execute_result",
          "data": {
            "text/plain": [
              "float"
            ]
          },
          "metadata": {
            "tags": []
          },
          "execution_count": 611
        }
      ]
    },
    {
      "cell_type": "code",
      "metadata": {
        "colab": {
          "base_uri": "https://localhost:8080/"
        },
        "id": "0-IVStZFhOTF",
        "outputId": "7bf5c47d-956a-45e9-ffb6-2267520ff23c"
      },
      "source": [
        "5 * 2"
      ],
      "execution_count": 612,
      "outputs": [
        {
          "output_type": "execute_result",
          "data": {
            "text/plain": [
              "10"
            ]
          },
          "metadata": {
            "tags": []
          },
          "execution_count": 612
        }
      ]
    },
    {
      "cell_type": "code",
      "metadata": {
        "colab": {
          "base_uri": "https://localhost:8080/"
        },
        "id": "GFKmhLCahQY6",
        "outputId": "2840396c-2e13-4dfb-e04a-af83b658e00b"
      },
      "source": [
        "intVariable * floatVariable"
      ],
      "execution_count": 613,
      "outputs": [
        {
          "output_type": "execute_result",
          "data": {
            "text/plain": [
              "9.0"
            ]
          },
          "metadata": {
            "tags": []
          },
          "execution_count": 613
        }
      ]
    },
    {
      "cell_type": "code",
      "metadata": {
        "colab": {
          "base_uri": "https://localhost:8080/"
        },
        "id": "lqLtyCWXhVHv",
        "outputId": "95dbefb5-98de-4713-ccfb-74cac537781d"
      },
      "source": [
        "int(intVariable * floatVariable)"
      ],
      "execution_count": 614,
      "outputs": [
        {
          "output_type": "execute_result",
          "data": {
            "text/plain": [
              "9"
            ]
          },
          "metadata": {
            "tags": []
          },
          "execution_count": 614
        }
      ]
    },
    {
      "cell_type": "code",
      "metadata": {
        "colab": {
          "base_uri": "https://localhost:8080/",
          "height": 35
        },
        "id": "z7bdErm9h_Lo",
        "outputId": "961dbeb8-d249-4e2c-8ec7-9c107ae0668f"
      },
      "source": [
        "str(intVariable * floatVariable)"
      ],
      "execution_count": 615,
      "outputs": [
        {
          "output_type": "execute_result",
          "data": {
            "application/vnd.google.colaboratory.intrinsic+json": {
              "type": "string"
            },
            "text/plain": [
              "'9.0'"
            ]
          },
          "metadata": {
            "tags": []
          },
          "execution_count": 615
        }
      ]
    },
    {
      "cell_type": "code",
      "metadata": {
        "id": "-5-cCeSviBUx"
      },
      "source": [
        "boolVar = True"
      ],
      "execution_count": 616,
      "outputs": []
    },
    {
      "cell_type": "code",
      "metadata": {
        "colab": {
          "base_uri": "https://localhost:8080/"
        },
        "id": "5AOt9CIeiOVR",
        "outputId": "4f2b29b6-0753-49ca-a1c1-1ef642327f02"
      },
      "source": [
        "boolVar"
      ],
      "execution_count": 617,
      "outputs": [
        {
          "output_type": "execute_result",
          "data": {
            "text/plain": [
              "True"
            ]
          },
          "metadata": {
            "tags": []
          },
          "execution_count": 617
        }
      ]
    },
    {
      "cell_type": "code",
      "metadata": {
        "colab": {
          "base_uri": "https://localhost:8080/"
        },
        "id": "uIDxkBeyiRKj",
        "outputId": "7d3db275-203c-46f4-a39e-66ab75f22443"
      },
      "source": [
        "(type(floatVariable) == float)"
      ],
      "execution_count": 618,
      "outputs": [
        {
          "output_type": "execute_result",
          "data": {
            "text/plain": [
              "True"
            ]
          },
          "metadata": {
            "tags": []
          },
          "execution_count": 618
        }
      ]
    },
    {
      "cell_type": "code",
      "metadata": {
        "colab": {
          "base_uri": "https://localhost:8080/"
        },
        "id": "maY4ZClyiakG",
        "outputId": "b8e4ef89-beac-4e0e-a00f-067530230fae"
      },
      "source": [
        "if type(floatVariable) == float:\n",
        "  print(\"yes its a float\")"
      ],
      "execution_count": 619,
      "outputs": [
        {
          "output_type": "stream",
          "text": [
            "yes its a float\n"
          ],
          "name": "stdout"
        }
      ]
    },
    {
      "cell_type": "code",
      "metadata": {
        "colab": {
          "base_uri": "https://localhost:8080/"
        },
        "id": "Gc7ljOugivHv",
        "outputId": "265d067b-3056-4861-f896-eb421c9c1a6a"
      },
      "source": [
        "if not type(floatVariable) == float:\n",
        "  print(\"yes its a float\")\n",
        "else : \n",
        "  print (\"yes\")"
      ],
      "execution_count": 620,
      "outputs": [
        {
          "output_type": "stream",
          "text": [
            "yes\n"
          ],
          "name": "stdout"
        }
      ]
    },
    {
      "cell_type": "code",
      "metadata": {
        "colab": {
          "base_uri": "https://localhost:8080/"
        },
        "id": "xPAhnGtLi1yT",
        "outputId": "3b913f5b-9f9e-49cb-db3f-c68796f439ad"
      },
      "source": [
        "if 0:\n",
        "  print(\"no\")\n",
        "else :\n",
        "  print (\"yes\")\n"
      ],
      "execution_count": 621,
      "outputs": [
        {
          "output_type": "stream",
          "text": [
            "yes\n"
          ],
          "name": "stdout"
        }
      ]
    },
    {
      "cell_type": "code",
      "metadata": {
        "colab": {
          "base_uri": "https://localhost:8080/"
        },
        "id": "b0nTArRwjadK",
        "outputId": "a56f5175-c2a6-48b4-f682-149634c234a9"
      },
      "source": [
        "if -1:\n",
        "  print(\"yes\")\n",
        "else :\n",
        "  print (\"no\")"
      ],
      "execution_count": 622,
      "outputs": [
        {
          "output_type": "stream",
          "text": [
            "yes\n"
          ],
          "name": "stdout"
        }
      ]
    },
    {
      "cell_type": "code",
      "metadata": {
        "colab": {
          "base_uri": "https://localhost:8080/"
        },
        "id": "0qClsOKbjdQU",
        "outputId": "dcb7f421-e89d-481c-d35b-2375f2363d73"
      },
      "source": [
        "if type(floatVariable) == float or floatVariable < 0:\n",
        "  print (\"yes its a float > 1\")"
      ],
      "execution_count": 623,
      "outputs": [
        {
          "output_type": "stream",
          "text": [
            "yes its a float > 1\n"
          ],
          "name": "stdout"
        }
      ]
    },
    {
      "cell_type": "code",
      "metadata": {
        "id": "cLFyKj7Dj1NE",
        "colab": {
          "base_uri": "https://localhost:8080/"
        },
        "outputId": "d057fadf-d100-47bc-febb-7e39fa56d485"
      },
      "source": [
        "for a in range(10):\n",
        "  print(a)\n",
        "  "
      ],
      "execution_count": 624,
      "outputs": [
        {
          "output_type": "stream",
          "text": [
            "0\n",
            "1\n",
            "2\n",
            "3\n",
            "4\n",
            "5\n",
            "6\n",
            "7\n",
            "8\n",
            "9\n"
          ],
          "name": "stdout"
        }
      ]
    },
    {
      "cell_type": "code",
      "metadata": {
        "colab": {
          "base_uri": "https://localhost:8080/"
        },
        "id": "2yZOvIzJZBLk",
        "outputId": "63397262-d96c-4d9e-f927-d998e484aca4"
      },
      "source": [
        "a = 0\n",
        "while a is not 10:\n",
        "  a =a+1\n",
        "  print(a)"
      ],
      "execution_count": 625,
      "outputs": [
        {
          "output_type": "stream",
          "text": [
            "1\n",
            "2\n",
            "3\n",
            "4\n",
            "5\n",
            "6\n",
            "7\n",
            "8\n",
            "9\n",
            "10\n"
          ],
          "name": "stdout"
        }
      ]
    },
    {
      "cell_type": "code",
      "metadata": {
        "id": "lczaVJcjZ1Ve"
      },
      "source": [
        ""
      ],
      "execution_count": 625,
      "outputs": []
    },
    {
      "cell_type": "markdown",
      "metadata": {
        "id": "U6v4Bs-8aNao"
      },
      "source": [
        "variable containers\n"
      ]
    },
    {
      "cell_type": "code",
      "metadata": {
        "colab": {
          "base_uri": "https://localhost:8080/"
        },
        "id": "fw8u16GdaMJR",
        "outputId": "2a0fba82-6954-4bc4-ec0b-3deb3c532be8"
      },
      "source": [
        "myList = [0, 1, 3, \"hello\", 3.3]\n",
        "myList"
      ],
      "execution_count": 626,
      "outputs": [
        {
          "output_type": "execute_result",
          "data": {
            "text/plain": [
              "[0, 1, 3, 'hello', 3.3]"
            ]
          },
          "metadata": {
            "tags": []
          },
          "execution_count": 626
        }
      ]
    },
    {
      "cell_type": "code",
      "metadata": {
        "id": "m26DZfcJaxYT"
      },
      "source": [
        ""
      ],
      "execution_count": 626,
      "outputs": []
    },
    {
      "cell_type": "code",
      "metadata": {
        "colab": {
          "base_uri": "https://localhost:8080/"
        },
        "id": "pMKGBiD-aYqo",
        "outputId": "68861775-34f6-430a-ca15-5ffdec30aa78"
      },
      "source": [
        "type(myList)"
      ],
      "execution_count": 627,
      "outputs": [
        {
          "output_type": "execute_result",
          "data": {
            "text/plain": [
              "list"
            ]
          },
          "metadata": {
            "tags": []
          },
          "execution_count": 627
        }
      ]
    },
    {
      "cell_type": "code",
      "metadata": {
        "colab": {
          "base_uri": "https://localhost:8080/"
        },
        "id": "qh8CTJfnazkA",
        "outputId": "a0a3b4a3-ffe5-46be-f794-822fb05c637a"
      },
      "source": [
        "myList = [0, 1, 3, \"hello\", 3.3, [0, 2, 3.3]]\n",
        "myList"
      ],
      "execution_count": 628,
      "outputs": [
        {
          "output_type": "execute_result",
          "data": {
            "text/plain": [
              "[0, 1, 3, 'hello', 3.3, [0, 2, 3.3]]"
            ]
          },
          "metadata": {
            "tags": []
          },
          "execution_count": 628
        }
      ]
    },
    {
      "cell_type": "code",
      "metadata": {
        "colab": {
          "base_uri": "https://localhost:8080/"
        },
        "id": "P1y2Xulca6L6",
        "outputId": "0d2462ed-bdf3-4550-88da-59db5d02c200"
      },
      "source": [
        "myList[-1]"
      ],
      "execution_count": 629,
      "outputs": [
        {
          "output_type": "execute_result",
          "data": {
            "text/plain": [
              "[0, 2, 3.3]"
            ]
          },
          "metadata": {
            "tags": []
          },
          "execution_count": 629
        }
      ]
    },
    {
      "cell_type": "code",
      "metadata": {
        "id": "UAE9RijwbBSU"
      },
      "source": [
        "intVariable = 3\n",
        "floatVariable = 3."
      ],
      "execution_count": 630,
      "outputs": []
    },
    {
      "cell_type": "code",
      "metadata": {
        "colab": {
          "base_uri": "https://localhost:8080/"
        },
        "id": "05pTnWEbbg-8",
        "outputId": "4003298e-133d-490b-bfe1-0a37d4291b09"
      },
      "source": [
        "myList + myList"
      ],
      "execution_count": 631,
      "outputs": [
        {
          "output_type": "execute_result",
          "data": {
            "text/plain": [
              "[0, 1, 3, 'hello', 3.3, [0, 2, 3.3], 0, 1, 3, 'hello', 3.3, [0, 2, 3.3]]"
            ]
          },
          "metadata": {
            "tags": []
          },
          "execution_count": 631
        }
      ]
    },
    {
      "cell_type": "code",
      "metadata": {
        "colab": {
          "base_uri": "https://localhost:8080/"
        },
        "id": "Ra6PCpgjbmAr",
        "outputId": "238db9e0-3047-491b-9c3f-0acf3189ec47"
      },
      "source": [
        "print(\"here I am in Parma but I am stuck in appartment due to lockdown\" +\n",
        "      \"and I don't like it\")"
      ],
      "execution_count": 632,
      "outputs": [
        {
          "output_type": "stream",
          "text": [
            "here I am in Parma but I am stuck in appartment due to lockdownand I don't like it\n"
          ],
          "name": "stdout"
        }
      ]
    },
    {
      "cell_type": "code",
      "metadata": {
        "colab": {
          "base_uri": "https://localhost:8080/"
        },
        "id": "MVnz6Y0Jb9Il",
        "outputId": "eba009dd-4c5e-40a8-84e5-18ec27522fd9"
      },
      "source": [
        "tmplist = []\n",
        "a = 0\n",
        "while a**2 < 300:\n",
        "  a =a+1\n",
        "  tmplist.append(a**2)\n",
        "tmplist"
      ],
      "execution_count": 633,
      "outputs": [
        {
          "output_type": "execute_result",
          "data": {
            "text/plain": [
              "[1, 4, 9, 16, 25, 36, 49, 64, 81, 100, 121, 144, 169, 196, 225, 256, 289, 324]"
            ]
          },
          "metadata": {
            "tags": []
          },
          "execution_count": 633
        }
      ]
    },
    {
      "cell_type": "markdown",
      "metadata": {
        "id": "Npsiz67_cfc9"
      },
      "source": [
        "List are really useful cause they can contain hybrid types and because they do not need to be allocated memory before they are filled so I can append things on the fly"
      ]
    },
    {
      "cell_type": "markdown",
      "metadata": {
        "id": "31jjcDvqdPm-"
      },
      "source": [
        "List are also computationally inefficient"
      ]
    },
    {
      "cell_type": "code",
      "metadata": {
        "id": "i0qNJL38deGf"
      },
      "source": [
        "dictVariable = {\"keyInt\": 0,\n",
        "                \"keyFloat\": 0.3,\n",
        "                \"keyString\": \"Im a string\",\n",
        "                \"keyDict\": {} }"
      ],
      "execution_count": 634,
      "outputs": []
    },
    {
      "cell_type": "code",
      "metadata": {
        "colab": {
          "base_uri": "https://localhost:8080/"
        },
        "id": "CrYBEiD7eBsF",
        "outputId": "3d54145a-3bff-44dc-a981-e2a4cd011d68"
      },
      "source": [
        "dictVariable"
      ],
      "execution_count": 635,
      "outputs": [
        {
          "output_type": "execute_result",
          "data": {
            "text/plain": [
              "{'keyDict': {}, 'keyFloat': 0.3, 'keyInt': 0, 'keyString': 'Im a string'}"
            ]
          },
          "metadata": {
            "tags": []
          },
          "execution_count": 635
        }
      ]
    },
    {
      "cell_type": "markdown",
      "metadata": {
        "id": "H8qXLVhLqkwO"
      },
      "source": [
        "L'ordine non è preservato"
      ]
    },
    {
      "cell_type": "markdown",
      "metadata": {
        "id": "iR0R1BINqolZ"
      },
      "source": [
        "Si può aggiungere qualcosa al dictionary:"
      ]
    },
    {
      "cell_type": "code",
      "metadata": {
        "id": "2mmQKPFSeFp0"
      },
      "source": [
        "dictVariable[\"keyList\"] = [] "
      ],
      "execution_count": 636,
      "outputs": []
    },
    {
      "cell_type": "code",
      "metadata": {
        "colab": {
          "base_uri": "https://localhost:8080/"
        },
        "id": "SmbBSHsZeNpi",
        "outputId": "072e43e2-04e5-47af-af4d-e7af645f0408"
      },
      "source": [
        "dictVariable"
      ],
      "execution_count": 637,
      "outputs": [
        {
          "output_type": "execute_result",
          "data": {
            "text/plain": [
              "{'keyDict': {},\n",
              " 'keyFloat': 0.3,\n",
              " 'keyInt': 0,\n",
              " 'keyList': [],\n",
              " 'keyString': 'Im a string'}"
            ]
          },
          "metadata": {
            "tags": []
          },
          "execution_count": 637
        }
      ]
    },
    {
      "cell_type": "code",
      "metadata": {
        "id": "T6GCW71heQq2"
      },
      "source": [
        "dictVariable[\"keyList\"].append(0)"
      ],
      "execution_count": 638,
      "outputs": []
    },
    {
      "cell_type": "code",
      "metadata": {
        "colab": {
          "base_uri": "https://localhost:8080/"
        },
        "id": "vec2ZGa0eZwP",
        "outputId": "ac72e80b-5c26-4f6b-a9a4-d0df950bad5e"
      },
      "source": [
        "dictVariable"
      ],
      "execution_count": 639,
      "outputs": [
        {
          "output_type": "execute_result",
          "data": {
            "text/plain": [
              "{'keyDict': {},\n",
              " 'keyFloat': 0.3,\n",
              " 'keyInt': 0,\n",
              " 'keyList': [0],\n",
              " 'keyString': 'Im a string'}"
            ]
          },
          "metadata": {
            "tags": []
          },
          "execution_count": 639
        }
      ]
    },
    {
      "cell_type": "code",
      "metadata": {
        "id": "E2pZaxuvedPn"
      },
      "source": [
        "dictVariable[\"keyDict\"]['nested1'] = 0.1"
      ],
      "execution_count": 640,
      "outputs": []
    },
    {
      "cell_type": "code",
      "metadata": {
        "id": "uvHUuXM5emlf"
      },
      "source": [
        "dictVariable[\"keyDict\"]['nested2'] = {}"
      ],
      "execution_count": 641,
      "outputs": []
    },
    {
      "cell_type": "code",
      "metadata": {
        "colab": {
          "base_uri": "https://localhost:8080/"
        },
        "id": "1XGRpj7Teq-e",
        "outputId": "02ebd274-a372-4fed-b38a-19bee1d97609"
      },
      "source": [
        "dictVariable"
      ],
      "execution_count": 642,
      "outputs": [
        {
          "output_type": "execute_result",
          "data": {
            "text/plain": [
              "{'keyDict': {'nested1': 0.1, 'nested2': {}},\n",
              " 'keyFloat': 0.3,\n",
              " 'keyInt': 0,\n",
              " 'keyList': [0],\n",
              " 'keyString': 'Im a string'}"
            ]
          },
          "metadata": {
            "tags": []
          },
          "execution_count": 642
        }
      ]
    },
    {
      "cell_type": "code",
      "metadata": {
        "id": "8i2gtVHDf5sj"
      },
      "source": [
        "stringVariable = \"hello!\""
      ],
      "execution_count": 643,
      "outputs": []
    },
    {
      "cell_type": "code",
      "metadata": {
        "colab": {
          "base_uri": "https://localhost:8080/",
          "height": 35
        },
        "id": "02-kBTP8f-E6",
        "outputId": "3d4a313a-4b6d-4fb0-d1a0-aed88361a629"
      },
      "source": [
        "stringVariable.capitalize()"
      ],
      "execution_count": 644,
      "outputs": [
        {
          "output_type": "execute_result",
          "data": {
            "application/vnd.google.colaboratory.intrinsic+json": {
              "type": "string"
            },
            "text/plain": [
              "'Hello!'"
            ]
          },
          "metadata": {
            "tags": []
          },
          "execution_count": 644
        }
      ]
    },
    {
      "cell_type": "code",
      "metadata": {
        "colab": {
          "base_uri": "https://localhost:8080/",
          "height": 35
        },
        "id": "-FCpOcyLgDLQ",
        "outputId": "627dc12a-dc98-45bb-a84e-29bdca1100e4"
      },
      "source": [
        "stringVariable.replace(\"!\", '')"
      ],
      "execution_count": 645,
      "outputs": [
        {
          "output_type": "execute_result",
          "data": {
            "application/vnd.google.colaboratory.intrinsic+json": {
              "type": "string"
            },
            "text/plain": [
              "'hello'"
            ]
          },
          "metadata": {
            "tags": []
          },
          "execution_count": 645
        }
      ]
    },
    {
      "cell_type": "code",
      "metadata": {
        "colab": {
          "base_uri": "https://localhost:8080/"
        },
        "id": "JDPHSbkpgT6O",
        "outputId": "0322a151-5193-4759-8cc9-7431d5744104"
      },
      "source": [
        "print(\"Hello 'you' \")"
      ],
      "execution_count": 646,
      "outputs": [
        {
          "output_type": "stream",
          "text": [
            "Hello 'you' \n"
          ],
          "name": "stdout"
        }
      ]
    },
    {
      "cell_type": "code",
      "metadata": {
        "id": "s6rUhNtBjFqN"
      },
      "source": [
        "import numpy"
      ],
      "execution_count": 647,
      "outputs": []
    },
    {
      "cell_type": "code",
      "metadata": {
        "colab": {
          "base_uri": "https://localhost:8080/"
        },
        "id": "bep55K9kjIc5",
        "outputId": "60ffabf1-9fca-41f9-ab91-830088dc4037"
      },
      "source": [
        "numpy.abs(-3)"
      ],
      "execution_count": 648,
      "outputs": [
        {
          "output_type": "execute_result",
          "data": {
            "text/plain": [
              "3"
            ]
          },
          "metadata": {
            "tags": []
          },
          "execution_count": 648
        }
      ]
    },
    {
      "cell_type": "code",
      "metadata": {
        "id": "125ysRz6jOHj"
      },
      "source": [
        "import numpy as np"
      ],
      "execution_count": 649,
      "outputs": []
    },
    {
      "cell_type": "code",
      "metadata": {
        "colab": {
          "base_uri": "https://localhost:8080/"
        },
        "id": "mY_9VmY0jQ6k",
        "outputId": "649715ea-7624-402a-829e-73197704e62a"
      },
      "source": [
        "np.abs(-3)"
      ],
      "execution_count": 650,
      "outputs": [
        {
          "output_type": "execute_result",
          "data": {
            "text/plain": [
              "3"
            ]
          },
          "metadata": {
            "tags": []
          },
          "execution_count": 650
        }
      ]
    },
    {
      "cell_type": "code",
      "metadata": {
        "id": "yxXUb7mw781H"
      },
      "source": [
        "from matplotlib import pylab as plt"
      ],
      "execution_count": 651,
      "outputs": []
    },
    {
      "cell_type": "code",
      "metadata": {
        "colab": {
          "base_uri": "https://localhost:8080/",
          "height": 265
        },
        "id": "qYhjttbu8H8k",
        "outputId": "194a6204-6834-49a3-a7aa-7f4756e454cb"
      },
      "source": [
        "plt.plot(range(10), np.zeros(10));"
      ],
      "execution_count": 652,
      "outputs": [
        {
          "output_type": "display_data",
          "data": {
            "image/png": "[encoded data removed]",
            "text/plain": [
              "<Figure size 432x288 with 1 Axes>"
            ]
          },
          "metadata": {
            "tags": [],
            "needs_background": "light"
          }
        }
      ]
    },
    {
      "cell_type": "markdown",
      "metadata": {
        "id": "xAhQ1RsE_BON"
      },
      "source": [
        "#never import as\n",
        "#from something import * to preserve the namespace (overwrite the memory)"
      ]
    },
    {
      "cell_type": "code",
      "metadata": {
        "colab": {
          "base_uri": "https://localhost:8080/"
        },
        "id": "XknfHD-UjrE6",
        "outputId": "5d5805de-d1ef-4ca7-fee1-31c136dc9efb"
      },
      "source": [
        "np.int16(3)"
      ],
      "execution_count": 653,
      "outputs": [
        {
          "output_type": "execute_result",
          "data": {
            "text/plain": [
              "3"
            ]
          },
          "metadata": {
            "tags": []
          },
          "execution_count": 653
        }
      ]
    },
    {
      "cell_type": "code",
      "metadata": {
        "colab": {
          "base_uri": "https://localhost:8080/"
        },
        "id": "aMr6DchgMMiF",
        "outputId": "b9fab6d4-b6b1-4444-e0f2-9dabf0bc38a7"
      },
      "source": [
        "np.uint8(16)"
      ],
      "execution_count": 654,
      "outputs": [
        {
          "output_type": "execute_result",
          "data": {
            "text/plain": [
              "16"
            ]
          },
          "metadata": {
            "tags": []
          },
          "execution_count": 654
        }
      ]
    },
    {
      "cell_type": "code",
      "metadata": {
        "id": "GxyOP8p46ejT"
      },
      "source": [
        "npuint8 = np.uint8(256)"
      ],
      "execution_count": 655,
      "outputs": []
    },
    {
      "cell_type": "code",
      "metadata": {
        "colab": {
          "base_uri": "https://localhost:8080/"
        },
        "id": "vLqJ7NmY6kN7",
        "outputId": "cf69abb3-8abe-4889-c92a-731762768099"
      },
      "source": [
        "npuint8.dtype"
      ],
      "execution_count": 656,
      "outputs": [
        {
          "output_type": "execute_result",
          "data": {
            "text/plain": [
              "dtype('uint8')"
            ]
          },
          "metadata": {
            "tags": []
          },
          "execution_count": 656
        }
      ]
    },
    {
      "cell_type": "code",
      "metadata": {
        "colab": {
          "base_uri": "https://localhost:8080/"
        },
        "id": "S7SD_D6268G7",
        "outputId": "51c158a7-ac6c-48a6-ceeb-591a94e004ca"
      },
      "source": [
        "type(npuint8)"
      ],
      "execution_count": 657,
      "outputs": [
        {
          "output_type": "execute_result",
          "data": {
            "text/plain": [
              "numpy.uint8"
            ]
          },
          "metadata": {
            "tags": []
          },
          "execution_count": 657
        }
      ]
    },
    {
      "cell_type": "code",
      "metadata": {
        "colab": {
          "base_uri": "https://localhost:8080/"
        },
        "id": "vIuudu357OPw",
        "outputId": "aff08c63-9513-4ba0-f833-4a260eb3fabf"
      },
      "source": [
        "np.array([intVariable, floatVariable, 6])"
      ],
      "execution_count": 658,
      "outputs": [
        {
          "output_type": "execute_result",
          "data": {
            "text/plain": [
              "array([3., 3., 6.])"
            ]
          },
          "metadata": {
            "tags": []
          },
          "execution_count": 658
        }
      ]
    },
    {
      "cell_type": "markdown",
      "metadata": {
        "id": "TH1v03Bk7hj0"
      },
      "source": [
        "A differenza delle liste, gli array devono contenere lo stesso tipo di variabili al loro interno"
      ]
    },
    {
      "cell_type": "code",
      "metadata": {
        "id": "PlYqRFs1luzX",
        "colab": {
          "base_uri": "https://localhost:8080/"
        },
        "outputId": "3fd338f2-4825-43ff-df3a-ddb9d5248e71"
      },
      "source": [
        "myList"
      ],
      "execution_count": 659,
      "outputs": [
        {
          "output_type": "execute_result",
          "data": {
            "text/plain": [
              "[0, 1, 3, 'hello', 3.3, [0, 2, 3.3]]"
            ]
          },
          "metadata": {
            "tags": []
          },
          "execution_count": 659
        }
      ]
    },
    {
      "cell_type": "code",
      "metadata": {
        "colab": {
          "base_uri": "https://localhost:8080/"
        },
        "id": "sVikg-Ow7_F0",
        "outputId": "47b5994a-c33f-4604-bd98-ad5c5c26f5aa"
      },
      "source": [
        "myList[:-1]"
      ],
      "execution_count": 660,
      "outputs": [
        {
          "output_type": "execute_result",
          "data": {
            "text/plain": [
              "[0, 1, 3, 'hello', 3.3]"
            ]
          },
          "metadata": {
            "tags": []
          },
          "execution_count": 660
        }
      ]
    },
    {
      "cell_type": "code",
      "metadata": {
        "id": "MLwkIasdmJaP",
        "colab": {
          "base_uri": "https://localhost:8080/"
        },
        "outputId": "872e0279-e4c3-4c06-8f5f-aaf0b56cd651"
      },
      "source": [
        "np.array(myList[:-1])"
      ],
      "execution_count": 661,
      "outputs": [
        {
          "output_type": "execute_result",
          "data": {
            "text/plain": [
              "array(['0', '1', '3', 'hello', '3.3'], dtype='<U21')"
            ]
          },
          "metadata": {
            "tags": []
          },
          "execution_count": 661
        }
      ]
    },
    {
      "cell_type": "code",
      "metadata": {
        "colab": {
          "base_uri": "https://localhost:8080/"
        },
        "id": "xmJgK5ql9RuS",
        "outputId": "1fe15299-96c4-4592-b876-5e9327319381"
      },
      "source": [
        "np.zeros(75)"
      ],
      "execution_count": 662,
      "outputs": [
        {
          "output_type": "execute_result",
          "data": {
            "text/plain": [
              "array([0., 0., 0., 0., 0., 0., 0., 0., 0., 0., 0., 0., 0., 0., 0., 0., 0.,\n",
              "       0., 0., 0., 0., 0., 0., 0., 0., 0., 0., 0., 0., 0., 0., 0., 0., 0.,\n",
              "       0., 0., 0., 0., 0., 0., 0., 0., 0., 0., 0., 0., 0., 0., 0., 0., 0.,\n",
              "       0., 0., 0., 0., 0., 0., 0., 0., 0., 0., 0., 0., 0., 0., 0., 0., 0.,\n",
              "       0., 0., 0., 0., 0., 0., 0.])"
            ]
          },
          "metadata": {
            "tags": []
          },
          "execution_count": 662
        }
      ]
    },
    {
      "cell_type": "code",
      "metadata": {
        "id": "5LkjH2aTmcCT",
        "colab": {
          "base_uri": "https://localhost:8080/"
        },
        "outputId": "ba5ade58-1720-4a64-9fdd-6c80909dc723"
      },
      "source": [
        "np.ones(75)"
      ],
      "execution_count": 663,
      "outputs": [
        {
          "output_type": "execute_result",
          "data": {
            "text/plain": [
              "array([1., 1., 1., 1., 1., 1., 1., 1., 1., 1., 1., 1., 1., 1., 1., 1., 1.,\n",
              "       1., 1., 1., 1., 1., 1., 1., 1., 1., 1., 1., 1., 1., 1., 1., 1., 1.,\n",
              "       1., 1., 1., 1., 1., 1., 1., 1., 1., 1., 1., 1., 1., 1., 1., 1., 1.,\n",
              "       1., 1., 1., 1., 1., 1., 1., 1., 1., 1., 1., 1., 1., 1., 1., 1., 1.,\n",
              "       1., 1., 1., 1., 1., 1., 1.])"
            ]
          },
          "metadata": {
            "tags": []
          },
          "execution_count": 663
        }
      ]
    },
    {
      "cell_type": "code",
      "metadata": {
        "colab": {
          "base_uri": "https://localhost:8080/"
        },
        "id": "cPUUPkFf9VkR",
        "outputId": "43e110d2-c30b-43e7-ef3f-1047b36ab6aa"
      },
      "source": [
        "np.empty(75)"
      ],
      "execution_count": 664,
      "outputs": [
        {
          "output_type": "execute_result",
          "data": {
            "text/plain": [
              "array([1., 1., 1., 1., 1., 1., 1., 1., 1., 1., 1., 1., 1., 1., 1., 1., 1.,\n",
              "       1., 1., 1., 1., 1., 1., 1., 1., 1., 1., 1., 1., 1., 1., 1., 1., 1.,\n",
              "       1., 1., 1., 1., 1., 1., 1., 1., 1., 1., 1., 1., 1., 1., 1., 1., 1.,\n",
              "       1., 1., 1., 1., 1., 1., 1., 1., 1., 1., 1., 1., 1., 1., 1., 1., 1.,\n",
              "       1., 1., 1., 1., 1., 1., 1.])"
            ]
          },
          "metadata": {
            "tags": []
          },
          "execution_count": 664
        }
      ]
    },
    {
      "cell_type": "code",
      "metadata": {
        "id": "2X1qv8-k9lsG"
      },
      "source": [
        "tmarray = np.zeros(75, int) #creo un array di interi"
      ],
      "execution_count": 665,
      "outputs": []
    },
    {
      "cell_type": "code",
      "metadata": {
        "colab": {
          "base_uri": "https://localhost:8080/"
        },
        "id": "NNQSoAEe9zWE",
        "outputId": "8c7e5a3b-4807-4bdc-f6aa-a663ba393102"
      },
      "source": [
        "myList[0:1] #lista che parte dall'indice 0 e si ferma prima dell'indice 1 (l'ultimo indice è escluso)"
      ],
      "execution_count": 666,
      "outputs": [
        {
          "output_type": "execute_result",
          "data": {
            "text/plain": [
              "[0]"
            ]
          },
          "metadata": {
            "tags": []
          },
          "execution_count": 666
        }
      ]
    },
    {
      "cell_type": "code",
      "metadata": {
        "colab": {
          "base_uri": "https://localhost:8080/"
        },
        "id": "FGQabq7i-Z6A",
        "outputId": "b98b5add-6a65-47da-c861-ca01e24f58f6"
      },
      "source": [
        "myList[0:10]"
      ],
      "execution_count": 667,
      "outputs": [
        {
          "output_type": "execute_result",
          "data": {
            "text/plain": [
              "[0, 1, 3, 'hello', 3.3, [0, 2, 3.3]]"
            ]
          },
          "metadata": {
            "tags": []
          },
          "execution_count": 667
        }
      ]
    },
    {
      "cell_type": "code",
      "metadata": {
        "colab": {
          "base_uri": "https://localhost:8080/"
        },
        "id": "Cb06dEBd-fos",
        "outputId": "ee9b7cf1-6763-41f8-9455-5fbb4abe282d"
      },
      "source": [
        "tmarray[:10]"
      ],
      "execution_count": 668,
      "outputs": [
        {
          "output_type": "execute_result",
          "data": {
            "text/plain": [
              "array([0, 0, 0, 0, 0, 0, 0, 0, 0, 0])"
            ]
          },
          "metadata": {
            "tags": []
          },
          "execution_count": 668
        }
      ]
    },
    {
      "cell_type": "code",
      "metadata": {
        "colab": {
          "base_uri": "https://localhost:8080/"
        },
        "id": "BCZy5nAA-1cH",
        "outputId": "122b4b12-f100-4f56-9290-5282c2efdcbb"
      },
      "source": [
        "myList[0:2] + myList[-1:]  #lista dei primi due elementi e del'ultimo elemento della lista definita prima"
      ],
      "execution_count": 669,
      "outputs": [
        {
          "output_type": "execute_result",
          "data": {
            "text/plain": [
              "[0, 1, [0, 2, 3.3]]"
            ]
          },
          "metadata": {
            "tags": []
          },
          "execution_count": 669
        }
      ]
    },
    {
      "cell_type": "code",
      "metadata": {
        "id": "I4_L4DKr_EN4"
      },
      "source": [
        "zerosarray = np.zeros(7, int)\n",
        "onesarray = np.ones(7, float)"
      ],
      "execution_count": 670,
      "outputs": []
    },
    {
      "cell_type": "code",
      "metadata": {
        "colab": {
          "base_uri": "https://localhost:8080/"
        },
        "id": "eeomckPj_MXl",
        "outputId": "66ac1002-7982-445c-9103-73de642aeb23"
      },
      "source": [
        "zerosarray + onesarray"
      ],
      "execution_count": 671,
      "outputs": [
        {
          "output_type": "execute_result",
          "data": {
            "text/plain": [
              "array([1., 1., 1., 1., 1., 1., 1.])"
            ]
          },
          "metadata": {
            "tags": []
          },
          "execution_count": 671
        }
      ]
    },
    {
      "cell_type": "code",
      "metadata": {
        "colab": {
          "base_uri": "https://localhost:8080/"
        },
        "id": "WC-091AU_R5Z",
        "outputId": "eb9422db-7aa4-450b-f96e-24939a18d1fc"
      },
      "source": [
        "zerosarray * onesarray #moltiplico gli elementi membro per membro (devono avere size comparabili)"
      ],
      "execution_count": 672,
      "outputs": [
        {
          "output_type": "execute_result",
          "data": {
            "text/plain": [
              "array([0., 0., 0., 0., 0., 0., 0.])"
            ]
          },
          "metadata": {
            "tags": []
          },
          "execution_count": 672
        }
      ]
    },
    {
      "cell_type": "code",
      "metadata": {
        "id": "Kmiuqsps_UUH"
      },
      "source": [
        "anotherOnesarray = np.ones(10, float)"
      ],
      "execution_count": 673,
      "outputs": []
    },
    {
      "cell_type": "code",
      "metadata": {
        "colab": {
          "base_uri": "https://localhost:8080/"
        },
        "id": "V8ckhxkuADGg",
        "outputId": "0f10c5b3-f868-40ef-cb56-9dfa747b25c2"
      },
      "source": [
        "anotherOnesarray.ndim"
      ],
      "execution_count": 674,
      "outputs": [
        {
          "output_type": "execute_result",
          "data": {
            "text/plain": [
              "1"
            ]
          },
          "metadata": {
            "tags": []
          },
          "execution_count": 674
        }
      ]
    },
    {
      "cell_type": "code",
      "metadata": {
        "colab": {
          "base_uri": "https://localhost:8080/"
        },
        "id": "sE2779UNAHtT",
        "outputId": "42c2e70f-d916-40be-dc70-7407ad3926b2"
      },
      "source": [
        "anotherOnesarray.size"
      ],
      "execution_count": 675,
      "outputs": [
        {
          "output_type": "execute_result",
          "data": {
            "text/plain": [
              "10"
            ]
          },
          "metadata": {
            "tags": []
          },
          "execution_count": 675
        }
      ]
    },
    {
      "cell_type": "code",
      "metadata": {
        "colab": {
          "base_uri": "https://localhost:8080/"
        },
        "id": "h9emAD6kAMBf",
        "outputId": "c9c05c86-a217-41be-d642-a61a710de0bb"
      },
      "source": [
        "anotherOnesarray.shape"
      ],
      "execution_count": 676,
      "outputs": [
        {
          "output_type": "execute_result",
          "data": {
            "text/plain": [
              "(10,)"
            ]
          },
          "metadata": {
            "tags": []
          },
          "execution_count": 676
        }
      ]
    },
    {
      "cell_type": "code",
      "metadata": {
        "colab": {
          "base_uri": "https://localhost:8080/"
        },
        "id": "NkDXH7HtAPyB",
        "outputId": "ffacbb2f-ee62-4e72-f88e-992597157721"
      },
      "source": [
        "anotherOnesarray.min() #calcola il minimo"
      ],
      "execution_count": 677,
      "outputs": [
        {
          "output_type": "execute_result",
          "data": {
            "text/plain": [
              "1.0"
            ]
          },
          "metadata": {
            "tags": []
          },
          "execution_count": 677
        }
      ]
    },
    {
      "cell_type": "code",
      "metadata": {
        "colab": {
          "base_uri": "https://localhost:8080/"
        },
        "id": "Prz2Ng1IAVdf",
        "outputId": "593d39c9-ff39-47e1-e2d4-d9f58e49d312"
      },
      "source": [
        "anotherOnesarray.mean()"
      ],
      "execution_count": 678,
      "outputs": [
        {
          "output_type": "execute_result",
          "data": {
            "text/plain": [
              "1.0"
            ]
          },
          "metadata": {
            "tags": []
          },
          "execution_count": 678
        }
      ]
    },
    {
      "cell_type": "code",
      "metadata": {
        "colab": {
          "base_uri": "https://localhost:8080/"
        },
        "id": "BdSgGoSyAcMl",
        "outputId": "2fe807c5-1752-4fa8-e3da-caf2be89db2c"
      },
      "source": [
        "range(10)"
      ],
      "execution_count": 679,
      "outputs": [
        {
          "output_type": "execute_result",
          "data": {
            "text/plain": [
              "range(0, 10)"
            ]
          },
          "metadata": {
            "tags": []
          },
          "execution_count": 679
        }
      ]
    },
    {
      "cell_type": "code",
      "metadata": {
        "colab": {
          "base_uri": "https://localhost:8080/"
        },
        "id": "pFyZ3_4NAjEL",
        "outputId": "da17cda4-a83d-4eeb-e4fd-e1fcb78e99a9"
      },
      "source": [
        "list(range(10))"
      ],
      "execution_count": 680,
      "outputs": [
        {
          "output_type": "execute_result",
          "data": {
            "text/plain": [
              "[0, 1, 2, 3, 4, 5, 6, 7, 8, 9]"
            ]
          },
          "metadata": {
            "tags": []
          },
          "execution_count": 680
        }
      ]
    },
    {
      "cell_type": "code",
      "metadata": {
        "colab": {
          "base_uri": "https://localhost:8080/"
        },
        "id": "9PngRkjAC-sy",
        "outputId": "f3dd1f33-f249-46ad-e07e-4b7dc6b0324d"
      },
      "source": [
        "np.arange(5, 10.)"
      ],
      "execution_count": 681,
      "outputs": [
        {
          "output_type": "execute_result",
          "data": {
            "text/plain": [
              "array([5., 6., 7., 8., 9.])"
            ]
          },
          "metadata": {
            "tags": []
          },
          "execution_count": 681
        }
      ]
    },
    {
      "cell_type": "code",
      "metadata": {
        "colab": {
          "base_uri": "https://localhost:8080/"
        },
        "id": "D_X3AdptC8iX",
        "outputId": "81c1b505-788b-4ae7-e011-d55fea5adddc"
      },
      "source": [
        "np.arange(5, 10., 2)"
      ],
      "execution_count": 682,
      "outputs": [
        {
          "output_type": "execute_result",
          "data": {
            "text/plain": [
              "array([5., 7., 9.])"
            ]
          },
          "metadata": {
            "tags": []
          },
          "execution_count": 682
        }
      ]
    },
    {
      "cell_type": "code",
      "metadata": {
        "colab": {
          "base_uri": "https://localhost:8080/"
        },
        "id": "w-JqEE8JAbBF",
        "outputId": "2ffa3b99-547d-4b6f-d41f-4f05a0c802e2"
      },
      "source": [
        "np.random.rand()"
      ],
      "execution_count": 683,
      "outputs": [
        {
          "output_type": "execute_result",
          "data": {
            "text/plain": [
              "0.1516083302312078"
            ]
          },
          "metadata": {
            "tags": []
          },
          "execution_count": 683
        }
      ]
    },
    {
      "cell_type": "code",
      "metadata": {
        "colab": {
          "base_uri": "https://localhost:8080/"
        },
        "id": "43phhMfwDU9S",
        "outputId": "5c447f03-152b-4e3c-85c1-6cfae6a44588"
      },
      "source": [
        "np.random.rand(10) #genera un array di 10 elementi"
      ],
      "execution_count": 684,
      "outputs": [
        {
          "output_type": "execute_result",
          "data": {
            "text/plain": [
              "array([0.08564188, 0.77371341, 0.94539454, 0.27547761, 0.51585995,\n",
              "       0.60085351, 0.68507435, 0.06082618, 0.25925602, 0.3945136 ])"
            ]
          },
          "metadata": {
            "tags": []
          },
          "execution_count": 684
        }
      ]
    },
    {
      "cell_type": "code",
      "metadata": {
        "colab": {
          "base_uri": "https://localhost:8080/"
        },
        "id": "Rjd2Yt3YDbFC",
        "outputId": "4410e5d8-7d66-4554-fd26-594eb19b42f7"
      },
      "source": [
        "np.random.rand(4, 5)"
      ],
      "execution_count": 685,
      "outputs": [
        {
          "output_type": "execute_result",
          "data": {
            "text/plain": [
              "array([[0.41138586, 0.49452748, 0.32209785, 0.22713221, 0.51100779],\n",
              "       [0.93669271, 0.80313253, 0.65927529, 0.07894002, 0.07271422],\n",
              "       [0.30988716, 0.20973914, 0.69964225, 0.25557187, 0.89457732],\n",
              "       [0.83654241, 0.61690784, 0.37101817, 0.69126172, 0.6742718 ]])"
            ]
          },
          "metadata": {
            "tags": []
          },
          "execution_count": 685
        }
      ]
    },
    {
      "cell_type": "code",
      "metadata": {
        "colab": {
          "base_uri": "https://localhost:8080/"
        },
        "id": "Im9RKoHkDoN1",
        "outputId": "da84be0e-50ca-4c79-dab9-b60b156c9c72"
      },
      "source": [
        "np.random.rand(4, 5).shape"
      ],
      "execution_count": 686,
      "outputs": [
        {
          "output_type": "execute_result",
          "data": {
            "text/plain": [
              "(4, 5)"
            ]
          },
          "metadata": {
            "tags": []
          },
          "execution_count": 686
        }
      ]
    },
    {
      "cell_type": "code",
      "metadata": {
        "id": "mXGP5lGuDsBD"
      },
      "source": [
        "one1DArray= np.random.rand(10)\n",
        "one2DArray= np.random.rand(10, 20)"
      ],
      "execution_count": 687,
      "outputs": []
    },
    {
      "cell_type": "code",
      "metadata": {
        "id": "9yUn-U5JEFKc",
        "colab": {
          "base_uri": "https://localhost:8080/"
        },
        "outputId": "4e3712a0-1607-49ab-cd56-799024d4dd55"
      },
      "source": [
        "one1DArray[1:3]"
      ],
      "execution_count": 688,
      "outputs": [
        {
          "output_type": "execute_result",
          "data": {
            "text/plain": [
              "array([0.63681151, 0.87321209])"
            ]
          },
          "metadata": {
            "tags": []
          },
          "execution_count": 688
        }
      ]
    },
    {
      "cell_type": "code",
      "metadata": {
        "id": "Qt8iHM9JZ9EQ"
      },
      "source": [
        "def myFunction(a):\n",
        "  print(\"the variable you passed is \", a*2)\n",
        "  return 1 "
      ],
      "execution_count": 689,
      "outputs": []
    },
    {
      "cell_type": "code",
      "metadata": {
        "colab": {
          "base_uri": "https://localhost:8080/"
        },
        "id": "I67WYKbQbhTO",
        "outputId": "f021f09d-117c-43ad-b7c5-2634a41efc61"
      },
      "source": [
        "myFunction(\"hello!\");"
      ],
      "execution_count": 690,
      "outputs": [
        {
          "output_type": "stream",
          "text": [
            "the variable you passed is  hello!hello!\n"
          ],
          "name": "stdout"
        }
      ]
    },
    {
      "cell_type": "code",
      "metadata": {
        "colab": {
          "base_uri": "https://localhost:8080/"
        },
        "id": "OqsRbwmJbp7O",
        "outputId": "83b27aea-1af6-4c77-c30d-23b842fb5961"
      },
      "source": [
        "myFunction(intVariable)"
      ],
      "execution_count": 691,
      "outputs": [
        {
          "output_type": "stream",
          "text": [
            "the variable you passed is  6\n"
          ],
          "name": "stdout"
        },
        {
          "output_type": "execute_result",
          "data": {
            "text/plain": [
              "1"
            ]
          },
          "metadata": {
            "tags": []
          },
          "execution_count": 691
        }
      ]
    },
    {
      "cell_type": "code",
      "metadata": {
        "colab": {
          "base_uri": "https://localhost:8080/"
        },
        "id": "0vPlWakjcBKj",
        "outputId": "f2bcae54-6434-4dfe-cac2-5a7c3dfd2e35"
      },
      "source": [
        "myList"
      ],
      "execution_count": 692,
      "outputs": [
        {
          "output_type": "execute_result",
          "data": {
            "text/plain": [
              "[0, 1, 3, 'hello', 3.3, [0, 2, 3.3]]"
            ]
          },
          "metadata": {
            "tags": []
          },
          "execution_count": 692
        }
      ]
    },
    {
      "cell_type": "code",
      "metadata": {
        "colab": {
          "base_uri": "https://localhost:8080/"
        },
        "id": "XevmXZovb8lV",
        "outputId": "42a33c60-34ce-43b3-81c3-cb024f2e7ca1"
      },
      "source": [
        "myList[::-1] #inverte l'ordine della lista"
      ],
      "execution_count": 693,
      "outputs": [
        {
          "output_type": "execute_result",
          "data": {
            "text/plain": [
              "[[0, 2, 3.3], 3.3, 'hello', 3, 1, 0]"
            ]
          },
          "metadata": {
            "tags": []
          },
          "execution_count": 693
        }
      ]
    },
    {
      "cell_type": "code",
      "metadata": {
        "colab": {
          "base_uri": "https://localhost:8080/"
        },
        "id": "A_BBri7pcHW2",
        "outputId": "faf4c552-37d9-4335-9381-a0cb2541bcc7"
      },
      "source": [
        "myList[::2]"
      ],
      "execution_count": 694,
      "outputs": [
        {
          "output_type": "execute_result",
          "data": {
            "text/plain": [
              "[0, 3, 3.3]"
            ]
          },
          "metadata": {
            "tags": []
          },
          "execution_count": 694
        }
      ]
    },
    {
      "cell_type": "code",
      "metadata": {
        "id": "t3ibaxNWm85d",
        "colab": {
          "base_uri": "https://localhost:8080/"
        },
        "outputId": "055378eb-14c0-412d-8571-2b896b95fe74"
      },
      "source": [
        "def palindrome(string):\n",
        "    return string.lower() == string[::-1].lower() #lower per far sì che non  \n",
        "                                                  #consideri eventuali lettere\n",
        "                                                  #maiuscole\n",
        "string = \"otto\"\n",
        "ans = palindrome(string)\n",
        " \n",
        "if ans:\n",
        "    print(\"Yes its a palindrome\")\n",
        "else:\n",
        "    print(\"This is not a palindrome\")\n",
        "\n",
        "if ans:\n",
        "    print(string[:int((len(string))/2 + 0.5)])\n"
      ],
      "execution_count": 695,
      "outputs": [
        {
          "output_type": "stream",
          "text": [
            "Yes its a palindrome\n",
            "ot\n"
          ],
          "name": "stdout"
        }
      ]
    },
    {
      "cell_type": "code",
      "metadata": {
        "id": "VYjRmsgqwRrD"
      },
      "source": [
        "from google.colab import drive"
      ],
      "execution_count": 696,
      "outputs": []
    },
    {
      "cell_type": "code",
      "metadata": {
        "colab": {
          "base_uri": "https://localhost:8080/"
        },
        "id": "-f-3Us6IyhcH",
        "outputId": "70de090f-3e94-47c9-eb55-d28be234edec"
      },
      "source": [
        "drive.mount(\"/content/drive\")"
      ],
      "execution_count": 697,
      "outputs": [
        {
          "output_type": "stream",
          "text": [
            "Drive already mounted at /content/drive; to attempt to forcibly remount, call drive.mount(\"/content/drive\", force_remount=True).\n"
          ],
          "name": "stdout"
        }
      ]
    },
    {
      "cell_type": "code",
      "metadata": {
        "colab": {
          "base_uri": "https://localhost:8080/"
        },
        "id": "GqKdJ2rJyqzv",
        "outputId": "d9570610-226c-4e82-8783-86183b9ae3fa"
      },
      "source": [
        "ls"
      ],
      "execution_count": 698,
      "outputs": [
        {
          "output_type": "stream",
          "text": [
            " busBusses.npy\n",
            " busTimeTable.npy\n",
            "'chimica rel (1).docx.gdoc'\n",
            "'chimica rel.docx.gdoc'\n",
            "\u001b[0m\u001b[01;34m'Colab Notebooks'\u001b[0m/\n",
            "'Copia di Goldstein H. - Meccanica Classica -Pdf - Ita- (2a edizione).pdf'\n",
            "'Fisica I - Meccanica e Termodinamica - Mazzoldi,  Nigro, Voci.pdf'\n",
            " ispalindrome.py\n",
            "'Laboratorio di elettronica_MG (1).gdoc'\n",
            "'Laboratorio di elettronica_MG (2).gdoc'\n",
            "'Laboratorio di elettronica_MG.docx'\n",
            "'Laboratorio di elettronica_MG.gdoc'\n",
            " NMR_Biselli_etal_annotata.pdf\n",
            " \u001b[01;34m__pycache__\u001b[0m/\n",
            " teoria.docx\n",
            "'Zero assoluto.docx'\n"
          ],
          "name": "stdout"
        }
      ]
    },
    {
      "cell_type": "code",
      "metadata": {
        "colab": {
          "base_uri": "https://localhost:8080/"
        },
        "id": "QjDtJ-YkysOi",
        "outputId": "5e01d3d9-f44a-4197-abee-0211426862e9"
      },
      "source": [
        "cd drive"
      ],
      "execution_count": 699,
      "outputs": [
        {
          "output_type": "stream",
          "text": [
            "[Errno 2] No such file or directory: 'drive'\n",
            "/content/drive/MyDrive\n"
          ],
          "name": "stdout"
        }
      ]
    },
    {
      "cell_type": "code",
      "metadata": {
        "colab": {
          "base_uri": "https://localhost:8080/"
        },
        "id": "KCizfrrbyuOP",
        "outputId": "8434747e-4767-4636-b67d-78d87a634e58"
      },
      "source": [
        "ls"
      ],
      "execution_count": 700,
      "outputs": [
        {
          "output_type": "stream",
          "text": [
            " busBusses.npy\n",
            " busTimeTable.npy\n",
            "'chimica rel (1).docx.gdoc'\n",
            "'chimica rel.docx.gdoc'\n",
            "\u001b[0m\u001b[01;34m'Colab Notebooks'\u001b[0m/\n",
            "'Copia di Goldstein H. - Meccanica Classica -Pdf - Ita- (2a edizione).pdf'\n",
            "'Fisica I - Meccanica e Termodinamica - Mazzoldi,  Nigro, Voci.pdf'\n",
            " ispalindrome.py\n",
            "'Laboratorio di elettronica_MG (1).gdoc'\n",
            "'Laboratorio di elettronica_MG (2).gdoc'\n",
            "'Laboratorio di elettronica_MG.docx'\n",
            "'Laboratorio di elettronica_MG.gdoc'\n",
            " NMR_Biselli_etal_annotata.pdf\n",
            " \u001b[01;34m__pycache__\u001b[0m/\n",
            " teoria.docx\n",
            "'Zero assoluto.docx'\n"
          ],
          "name": "stdout"
        }
      ]
    },
    {
      "cell_type": "code",
      "metadata": {
        "colab": {
          "base_uri": "https://localhost:8080/"
        },
        "id": "wM5_D-styzNE",
        "outputId": "c6e8c1ec-9d52-4d89-e570-7662fc96a8cd"
      },
      "source": [
        "cd MyDrive"
      ],
      "execution_count": 701,
      "outputs": [
        {
          "output_type": "stream",
          "text": [
            "[Errno 2] No such file or directory: 'MyDrive'\n",
            "/content/drive/MyDrive\n"
          ],
          "name": "stdout"
        }
      ]
    },
    {
      "cell_type": "code",
      "metadata": {
        "colab": {
          "base_uri": "https://localhost:8080/"
        },
        "id": "jEKwjj7Oy53f",
        "outputId": "aee2b137-e85e-4a35-e96d-34bf206750b7"
      },
      "source": [
        "ls"
      ],
      "execution_count": 702,
      "outputs": [
        {
          "output_type": "stream",
          "text": [
            " busBusses.npy\n",
            " busTimeTable.npy\n",
            "'chimica rel (1).docx.gdoc'\n",
            "'chimica rel.docx.gdoc'\n",
            "\u001b[0m\u001b[01;34m'Colab Notebooks'\u001b[0m/\n",
            "'Copia di Goldstein H. - Meccanica Classica -Pdf - Ita- (2a edizione).pdf'\n",
            "'Fisica I - Meccanica e Termodinamica - Mazzoldi,  Nigro, Voci.pdf'\n",
            " ispalindrome.py\n",
            "'Laboratorio di elettronica_MG (1).gdoc'\n",
            "'Laboratorio di elettronica_MG (2).gdoc'\n",
            "'Laboratorio di elettronica_MG.docx'\n",
            "'Laboratorio di elettronica_MG.gdoc'\n",
            " NMR_Biselli_etal_annotata.pdf\n",
            " \u001b[01;34m__pycache__\u001b[0m/\n",
            " teoria.docx\n",
            "'Zero assoluto.docx'\n"
          ],
          "name": "stdout"
        }
      ]
    },
    {
      "cell_type": "code",
      "metadata": {
        "id": "tM_bUtYqzSyz"
      },
      "source": [
        "import ispalindrome as ipl"
      ],
      "execution_count": 703,
      "outputs": []
    },
    {
      "cell_type": "code",
      "metadata": {
        "colab": {
          "base_uri": "https://localhost:8080/"
        },
        "id": "wCvGjww1zXdT",
        "outputId": "37e73992-6bef-41e8-b0a3-0d1ba11b400a"
      },
      "source": [
        "ipl.lookForPal(\"Anna\")"
      ],
      "execution_count": 704,
      "outputs": [
        {
          "output_type": "stream",
          "text": [
            "Yes its a palindrome An\n"
          ],
          "name": "stdout"
        },
        {
          "output_type": "execute_result",
          "data": {
            "text/plain": [
              "1"
            ]
          },
          "metadata": {
            "tags": []
          },
          "execution_count": 704
        }
      ]
    },
    {
      "cell_type": "code",
      "metadata": {
        "colab": {
          "base_uri": "https://localhost:8080/"
        },
        "id": "2ry5Rkbc4hwo",
        "outputId": "5344ae8b-662c-4637-e86b-3cf4b623c56a"
      },
      "source": [
        "!curl -O https://raw.githubusercontent.com/fedhere/PyBOOT/master/busBusses.npy"
      ],
      "execution_count": 705,
      "outputs": [
        {
          "output_type": "stream",
          "text": [
            "  % Total    % Received % Xferd  Average Speed   Time    Time     Time  Current\n",
            "                                 Dload  Upload   Total   Spent    Left  Speed\n",
            "100   240  100   240    0     0   2123      0 --:--:-- --:--:-- --:--:--  2123\n"
          ],
          "name": "stdout"
        }
      ]
    },
    {
      "cell_type": "code",
      "metadata": {
        "colab": {
          "base_uri": "https://localhost:8080/"
        },
        "id": "ovG9QL4Y6PLk",
        "outputId": "a5b1abb4-4ee1-4722-83cb-d179fd12b478"
      },
      "source": [
        "ls"
      ],
      "execution_count": 706,
      "outputs": [
        {
          "output_type": "stream",
          "text": [
            " busBusses.npy\n",
            " busTimeTable.npy\n",
            "'chimica rel (1).docx.gdoc'\n",
            "'chimica rel.docx.gdoc'\n",
            "\u001b[0m\u001b[01;34m'Colab Notebooks'\u001b[0m/\n",
            "'Copia di Goldstein H. - Meccanica Classica -Pdf - Ita- (2a edizione).pdf'\n",
            "'Fisica I - Meccanica e Termodinamica - Mazzoldi,  Nigro, Voci.pdf'\n",
            " ispalindrome.py\n",
            "'Laboratorio di elettronica_MG (1).gdoc'\n",
            "'Laboratorio di elettronica_MG (2).gdoc'\n",
            "'Laboratorio di elettronica_MG.docx'\n",
            "'Laboratorio di elettronica_MG.gdoc'\n",
            " NMR_Biselli_etal_annotata.pdf\n",
            " \u001b[01;34m__pycache__\u001b[0m/\n",
            " teoria.docx\n",
            "'Zero assoluto.docx'\n"
          ],
          "name": "stdout"
        }
      ]
    },
    {
      "cell_type": "code",
      "metadata": {
        "colab": {
          "base_uri": "https://localhost:8080/"
        },
        "id": "R_neKmCP6Z3k",
        "outputId": "cd586367-2ffe-4eb9-fbe1-9abfcfa05199"
      },
      "source": [
        "!curl -O https://raw.githubusercontent.com/fedhere/PyBOOT/master/busTimeTable.npy"
      ],
      "execution_count": 707,
      "outputs": [
        {
          "output_type": "stream",
          "text": [
            "  % Total    % Received % Xferd  Average Speed   Time    Time     Time  Current\n",
            "                                 Dload  Upload   Total   Spent    Left  Speed\n",
            "100  1680  100  1680    0     0  15412      0 --:--:-- --:--:-- --:--:-- 15412\n"
          ],
          "name": "stdout"
        }
      ]
    },
    {
      "cell_type": "code",
      "metadata": {
        "colab": {
          "base_uri": "https://localhost:8080/"
        },
        "id": "7XX29CHn6m4c",
        "outputId": "7635c853-7810-40fb-f84d-e73abf1ad100"
      },
      "source": [
        "ls"
      ],
      "execution_count": 708,
      "outputs": [
        {
          "output_type": "stream",
          "text": [
            " busBusses.npy\n",
            " busTimeTable.npy\n",
            "'chimica rel (1).docx.gdoc'\n",
            "'chimica rel.docx.gdoc'\n",
            "\u001b[0m\u001b[01;34m'Colab Notebooks'\u001b[0m/\n",
            "'Copia di Goldstein H. - Meccanica Classica -Pdf - Ita- (2a edizione).pdf'\n",
            "'Fisica I - Meccanica e Termodinamica - Mazzoldi,  Nigro, Voci.pdf'\n",
            " ispalindrome.py\n",
            "'Laboratorio di elettronica_MG (1).gdoc'\n",
            "'Laboratorio di elettronica_MG (2).gdoc'\n",
            "'Laboratorio di elettronica_MG.docx'\n",
            "'Laboratorio di elettronica_MG.gdoc'\n",
            " NMR_Biselli_etal_annotata.pdf\n",
            " \u001b[01;34m__pycache__\u001b[0m/\n",
            " teoria.docx\n",
            "'Zero assoluto.docx'\n"
          ],
          "name": "stdout"
        }
      ]
    },
    {
      "cell_type": "code",
      "metadata": {
        "id": "7OOab_D96uVt"
      },
      "source": [
        "tt = np.load(\"busTimeTable.npy\")"
      ],
      "execution_count": 709,
      "outputs": []
    },
    {
      "cell_type": "code",
      "metadata": {
        "id": "LjgN2QDd61Xt"
      },
      "source": [
        "busses = np.load(\"busBusses.npy\")"
      ],
      "execution_count": 710,
      "outputs": []
    },
    {
      "cell_type": "code",
      "metadata": {
        "colab": {
          "base_uri": "https://localhost:8080/"
        },
        "id": "LfCrn-kL6-aB",
        "outputId": "aafe64cd-d254-477b-b3df-ba99c44151f3"
      },
      "source": [
        "busses"
      ],
      "execution_count": 711,
      "outputs": [
        {
          "output_type": "execute_result",
          "data": {
            "text/plain": [
              "array([ 77,  72,  79,  97,  85,  57,  86,  96,  31,  76,  33,  98, 109,\n",
              "       108,  52,  92,  58,  94,  66, 104])"
            ]
          },
          "metadata": {
            "tags": []
          },
          "execution_count": 711
        }
      ]
    },
    {
      "cell_type": "code",
      "metadata": {
        "colab": {
          "base_uri": "https://localhost:8080/"
        },
        "id": "gArhez2m7Ahz",
        "outputId": "963fcc57-e60f-42bb-c5ec-2450ebf50ec6"
      },
      "source": [
        "busses.dtype\n",
        "busses.ndim\n",
        "busses.shape\n",
        "\n"
      ],
      "execution_count": 712,
      "outputs": [
        {
          "output_type": "execute_result",
          "data": {
            "text/plain": [
              "(20,)"
            ]
          },
          "metadata": {
            "tags": []
          },
          "execution_count": 712
        }
      ]
    },
    {
      "cell_type": "code",
      "metadata": {
        "colab": {
          "base_uri": "https://localhost:8080/"
        },
        "id": "seMUX3vW7VGC",
        "outputId": "77bb0f42-b40b-4956-8e08-24fce3e89069"
      },
      "source": [
        "tt.shape "
      ],
      "execution_count": 713,
      "outputs": [
        {
          "output_type": "execute_result",
          "data": {
            "text/plain": [
              "(20, 10)"
            ]
          },
          "metadata": {
            "tags": []
          },
          "execution_count": 713
        }
      ]
    },
    {
      "cell_type": "markdown",
      "metadata": {
        "id": "zmnaOT7p8Nh6"
      },
      "source": [
        "1. Create an array of time of the day in hour from 1 to 10 (size 10)\n",
        "2. Find the bus that on average takes the longest trips\n",
        "3. Find the hour of the day when the busses take the longest time"
      ]
    },
    {
      "cell_type": "code",
      "metadata": {
        "colab": {
          "base_uri": "https://localhost:8080/"
        },
        "id": "lV3st9VDIp3p",
        "outputId": "d4af8ae1-ab32-4a13-851b-debc3789d649"
      },
      "source": [
        "tt.shape  #sulle righe ci saranno i bus, sulle colonne i tempi"
      ],
      "execution_count": 714,
      "outputs": [
        {
          "output_type": "execute_result",
          "data": {
            "text/plain": [
              "(20, 10)"
            ]
          },
          "metadata": {
            "tags": []
          },
          "execution_count": 714
        }
      ]
    },
    {
      "cell_type": "code",
      "metadata": {
        "colab": {
          "base_uri": "https://localhost:8080/"
        },
        "id": "jPnQgkBPJEyz",
        "outputId": "24926908-1fd1-4dc9-fd4a-9bd88e06b918"
      },
      "source": [
        "tt\n"
      ],
      "execution_count": 715,
      "outputs": [
        {
          "output_type": "execute_result",
          "data": {
            "text/plain": [
              "array([[ 91.82869011,  72.99278771,  96.74459251,  73.41298391,\n",
              "         85.58215726, 101.38226456,  96.97680737,  95.56072596,\n",
              "         77.87195303,  78.37553397],\n",
              "       [ 61.03022409,  60.00463334,  67.86228679,  41.10873249,\n",
              "         53.37659575,  36.91790247,  53.62835897,  55.73660035,\n",
              "         58.56814116,  54.98889748],\n",
              "       [ 60.98477297,  45.55742203,  45.88400007,  66.16346096,\n",
              "         60.03163411,  50.85322708,  45.37677315,  53.8142472 ,\n",
              "         54.54569551,  60.64418839],\n",
              "       [ 87.98620643,  55.8021912 ,  81.02751282,  66.19019631,\n",
              "         53.30000683,  67.55780543,  74.38103569,  71.13924744,\n",
              "         87.67477883,  67.09783283],\n",
              "       [ 73.8097995 ,  79.25914025,  86.31085813,  99.77766307,\n",
              "         90.29078454,  84.37561182,  95.84112464,  84.50840611,\n",
              "         97.12166748, 105.17515918],\n",
              "       [ 77.14467806,  71.12444623,  52.12373301,  73.45946947,\n",
              "         91.36942688,  72.86854378,  68.71403738,  72.43112835,\n",
              "         61.79702835,  72.26935691],\n",
              "       [ 86.30704523, 102.23174241, 113.01884237,  95.69827044,\n",
              "         98.59959209, 114.93276158, 104.41133895, 105.50238628,\n",
              "         93.35943062,  98.78277939],\n",
              "       [ 74.71226929,  80.97147937,  89.16214966,  70.2307603 ,\n",
              "         81.4312056 ,  78.3874604 ,  78.96898309,  72.10555491,\n",
              "         55.51923827,  79.02316128],\n",
              "       [ 77.92696605,  92.77956675,  69.3108149 ,  61.53129422,\n",
              "         70.65140894,  76.97932739,  73.41862304,  84.09255185,\n",
              "         63.36670996,  67.99069123],\n",
              "       [ 49.24024409,  67.65617269,  61.19613048,  51.40181978,\n",
              "         44.90729398,  68.52445254,  78.97249561,  52.57678652,\n",
              "         53.74647403,  54.37398039],\n",
              "       [ 59.18999377,  70.37804103,  48.60766952,  81.46181456,\n",
              "         64.85214737,  65.33415395,  58.19399315,  61.38295111,\n",
              "         57.04243639,  59.63865558],\n",
              "       [ 75.12543348, 106.12441583,  85.73822318,  85.38739475,\n",
              "         67.688885  ,  78.10374313,  85.17605977,  80.99901671,\n",
              "         87.65882487,  86.52981761],\n",
              "       [ 63.75814098,  53.37348145,  70.99872588,  77.81639011,\n",
              "         62.0375387 ,  56.34111999,  68.85249945,  55.82441791,\n",
              "         68.08625797,  72.10975084],\n",
              "       [ 15.59478274,  33.19279169,  35.26912395,  30.90715331,\n",
              "         56.00936929,  32.58024267,  46.41792735,  42.82946792,\n",
              "         43.28099373,  49.37757159],\n",
              "       [ 46.16732427,  81.31977757,  75.50469581,  65.69300662,\n",
              "         56.53048576,  56.31828323,  49.76376656,  56.47451759,\n",
              "         65.87847643,  61.13387985],\n",
              "       [ 77.280952  ,  76.29909699,  73.30769388,  96.05834373,\n",
              "         89.29221424,  87.4965901 ,  65.51103779,  85.00879678,\n",
              "         83.01854661,  70.11890182],\n",
              "       [ 60.22412814,  51.24633613,  29.71850033,  47.59939621,\n",
              "         61.07689437,  58.55899776,  40.75295312,  54.98036344,\n",
              "         52.91969315,  44.25847756],\n",
              "       [ 48.79074854,  61.22026506,  60.92437628,  60.83824996,\n",
              "         53.31451393,  53.76179385,  52.20652832,  65.24639906,\n",
              "         18.21655529,  66.6490358 ],\n",
              "       [ 71.92154159,  80.80014634,  67.85942205,  61.04740331,\n",
              "         58.18359773,  66.40353147,  77.43164409,  74.96692462,\n",
              "         69.20014753,  80.85366556],\n",
              "       [ 78.79188234,  89.45851705,  70.64935937,  58.27493978,\n",
              "         68.58490247,  89.96935633,  66.60290963,  65.79740182,\n",
              "         70.80114802,  75.60585109]])"
            ]
          },
          "metadata": {
            "tags": []
          },
          "execution_count": 715
        }
      ]
    },
    {
      "cell_type": "code",
      "metadata": {
        "colab": {
          "base_uri": "https://localhost:8080/"
        },
        "id": "--QGZlgoKonF",
        "outputId": "3f863889-346a-46c5-b777-ee6c0c039b1c"
      },
      "source": [
        "tt.mean(axis=1)"
      ],
      "execution_count": 716,
      "outputs": [
        {
          "output_type": "execute_result",
          "data": {
            "text/plain": [
              "array([ 87.07284964,  54.32223729,  54.38554215,  71.21568138,\n",
              "        89.64702147,  71.33018484, 101.28441894,  76.05122622,\n",
              "        73.80479543,  58.25958501,  62.60818564,  83.85318143,\n",
              "        64.91983233,  38.54594242,  61.47842137,  80.33921739,\n",
              "        50.13357402,  54.11684661,  70.86680243,  73.45362679])"
            ]
          },
          "metadata": {
            "tags": []
          },
          "execution_count": 716
        }
      ]
    },
    {
      "cell_type": "code",
      "metadata": {
        "colab": {
          "base_uri": "https://localhost:8080/"
        },
        "id": "_EilEhJEK0cx",
        "outputId": "ee0964ba-3189-424e-a2f5-d7de36e9a279"
      },
      "source": [
        "tmp = np.array([0, 1, 2])\n",
        "tmp[[True, False, True]] #per estrarre solo alcuni numeri da un array"
      ],
      "execution_count": 717,
      "outputs": [
        {
          "output_type": "execute_result",
          "data": {
            "text/plain": [
              "array([0, 2])"
            ]
          },
          "metadata": {
            "tags": []
          },
          "execution_count": 717
        }
      ]
    },
    {
      "cell_type": "code",
      "metadata": {
        "colab": {
          "base_uri": "https://localhost:8080/"
        },
        "id": "FSioTZpqLXHa",
        "outputId": "941d01a3-70d1-48cc-9d66-5f741dc5ad32"
      },
      "source": [
        "tmp.max()"
      ],
      "execution_count": 718,
      "outputs": [
        {
          "output_type": "execute_result",
          "data": {
            "text/plain": [
              "2"
            ]
          },
          "metadata": {
            "tags": []
          },
          "execution_count": 718
        }
      ]
    },
    {
      "cell_type": "code",
      "metadata": {
        "colab": {
          "base_uri": "https://localhost:8080/"
        },
        "id": "3PXRC4wDLZRi",
        "outputId": "c403e221-c1ae-4d7a-a69c-4d9f24d16a0f"
      },
      "source": [
        "tmp.min()"
      ],
      "execution_count": 719,
      "outputs": [
        {
          "output_type": "execute_result",
          "data": {
            "text/plain": [
              "0"
            ]
          },
          "metadata": {
            "tags": []
          },
          "execution_count": 719
        }
      ]
    },
    {
      "cell_type": "code",
      "metadata": {
        "colab": {
          "base_uri": "https://localhost:8080/"
        },
        "id": "dAQMbqNwL1ru",
        "outputId": "674c2a73-9b5a-4691-92aa-727397b2e510"
      },
      "source": [
        "tt.mean(axis=0).shape  #non so se sto facendo la media sui bus o sui tempi, ma \n",
        "                       #invocando la shape capisco la dimensione di ciò che \n",
        "                       #ottengo e quindi su cosa ho mediato. 10 è il numero di \n",
        "                       #ore quindi per ogni ora ho mediato su tutti i bus alla\n",
        "                       #data ora"
      ],
      "execution_count": 720,
      "outputs": [
        {
          "output_type": "execute_result",
          "data": {
            "text/plain": [
              "(10,)"
            ]
          },
          "metadata": {
            "tags": []
          },
          "execution_count": 720
        }
      ]
    },
    {
      "cell_type": "code",
      "metadata": {
        "colab": {
          "base_uri": "https://localhost:8080/"
        },
        "id": "NIMuLFfVOUyG",
        "outputId": "f342b4fe-16c9-4375-88a3-ad5f654e5ac3"
      },
      "source": [
        "tt.mean(axis=1).shape #20 è il numero di bus quindi per ogni bus ho la media su \n",
        "                      #tutte le ore"
      ],
      "execution_count": 721,
      "outputs": [
        {
          "output_type": "execute_result",
          "data": {
            "text/plain": [
              "(20,)"
            ]
          },
          "metadata": {
            "tags": []
          },
          "execution_count": 721
        }
      ]
    },
    {
      "cell_type": "code",
      "metadata": {
        "colab": {
          "base_uri": "https://localhost:8080/"
        },
        "id": "CZeSqjUwOruH",
        "outputId": "f61db37d-5ad7-4538-b4f0-8cb732970651"
      },
      "source": [
        "hours = np.arange(1,11)\n",
        "hours"
      ],
      "execution_count": 722,
      "outputs": [
        {
          "output_type": "execute_result",
          "data": {
            "text/plain": [
              "array([ 1,  2,  3,  4,  5,  6,  7,  8,  9, 10])"
            ]
          },
          "metadata": {
            "tags": []
          },
          "execution_count": 722
        }
      ]
    },
    {
      "cell_type": "code",
      "metadata": {
        "id": "QMdHcwDJO7IJ"
      },
      "source": [
        "ttmean0 = tt.mean(axis=0)"
      ],
      "execution_count": 723,
      "outputs": []
    },
    {
      "cell_type": "code",
      "metadata": {
        "id": "cZZNsHVoPAGQ"
      },
      "source": [
        "ttmean1 = tt.mean(axis=1)"
      ],
      "execution_count": 724,
      "outputs": []
    },
    {
      "cell_type": "code",
      "metadata": {
        "colab": {
          "base_uri": "https://localhost:8080/"
        },
        "id": "VYhERmSuPBWQ",
        "outputId": "e00dd038-a196-4b61-e287-0b480b0160e1"
      },
      "source": [
        "ttmean0.max()"
      ],
      "execution_count": 725,
      "outputs": [
        {
          "output_type": "execute_result",
          "data": {
            "text/plain": [
              "71.58962255653003"
            ]
          },
          "metadata": {
            "tags": []
          },
          "execution_count": 725
        }
      ]
    },
    {
      "cell_type": "code",
      "metadata": {
        "colab": {
          "base_uri": "https://localhost:8080/"
        },
        "id": "iKY0A1WARvb4",
        "outputId": "3b58c519-7b08-4215-c5f3-c710559c8ea2"
      },
      "source": [
        "ttmean1.max()"
      ],
      "execution_count": 726,
      "outputs": [
        {
          "output_type": "execute_result",
          "data": {
            "text/plain": [
              "101.28441893639999"
            ]
          },
          "metadata": {
            "tags": []
          },
          "execution_count": 726
        }
      ]
    },
    {
      "cell_type": "code",
      "metadata": {
        "colab": {
          "base_uri": "https://localhost:8080/"
        },
        "id": "uKXl__TdR3gy",
        "outputId": "5afd1bd3-e797-4084-85fc-4f3bfc810b8c"
      },
      "source": [
        "ttmean0 "
      ],
      "execution_count": 727,
      "outputs": [
        {
          "output_type": "execute_result",
          "data": {
            "text/plain": [
              "array([66.89079118, 71.58962256, 69.06093555, 68.20293716, 68.35553274,\n",
              "       69.88235848, 69.07994486, 69.5488946 , 65.98370986, 70.24985942])"
            ]
          },
          "metadata": {
            "tags": []
          },
          "execution_count": 727
        }
      ]
    },
    {
      "cell_type": "code",
      "metadata": {
        "colab": {
          "base_uri": "https://localhost:8080/"
        },
        "id": "Rrpta4PMSdDv",
        "outputId": "499c6ccf-0c61-4519-cc40-7a5cf4e79731"
      },
      "source": [
        "ttmean0 == ttmean0.max()"
      ],
      "execution_count": 728,
      "outputs": [
        {
          "output_type": "execute_result",
          "data": {
            "text/plain": [
              "array([False,  True, False, False, False, False, False, False, False,\n",
              "       False])"
            ]
          },
          "metadata": {
            "tags": []
          },
          "execution_count": 728
        }
      ]
    },
    {
      "cell_type": "code",
      "metadata": {
        "colab": {
          "base_uri": "https://localhost:8080/"
        },
        "id": "784QGxgZSy8e",
        "outputId": "37169c0e-d41d-4406-bf86-bbd328455862"
      },
      "source": [
        "hours[ttmean0 == ttmean0.max()] #estrae il numero "
      ],
      "execution_count": 729,
      "outputs": [
        {
          "output_type": "execute_result",
          "data": {
            "text/plain": [
              "array([2])"
            ]
          },
          "metadata": {
            "tags": []
          },
          "execution_count": 729
        }
      ]
    },
    {
      "cell_type": "code",
      "metadata": {
        "colab": {
          "base_uri": "https://localhost:8080/"
        },
        "id": "VYVgQ_omTRpb",
        "outputId": "57865b60-81a1-4c30-91fd-c64d0d6b36a7"
      },
      "source": [
        "busses[ttmean1 == ttmean1.max()]"
      ],
      "execution_count": 730,
      "outputs": [
        {
          "output_type": "execute_result",
          "data": {
            "text/plain": [
              "array([86])"
            ]
          },
          "metadata": {
            "tags": []
          },
          "execution_count": 730
        }
      ]
    },
    {
      "cell_type": "markdown",
      "metadata": {
        "id": "uF6LeTglTs0V"
      },
      "source": [
        "The technique of selecting elements of an array based on a condition by passing an array (list) of Bool variables (True/False) as an index is called \"Broadcasting\"\n",
        "\n",
        "Make sure the shape of the Bool array is the same as the shape of the array to be indexed "
      ]
    },
    {
      "cell_type": "code",
      "metadata": {
        "id": "Wd8UTl1DULD4"
      },
      "source": [
        "import pylab as plt"
      ],
      "execution_count": 731,
      "outputs": []
    },
    {
      "cell_type": "code",
      "metadata": {
        "colab": {
          "base_uri": "https://localhost:8080/",
          "height": 297
        },
        "id": "NztX7dUuUW0u",
        "outputId": "b6d0ea71-c9b1-41a0-8878-02f61b0c5499"
      },
      "source": [
        "plt.plot(hours, tt[0], color = 'green', alpha=0.5)  #oppure lettera per indicare il\n",
        "plt.plot(hours, tt[1], color = 'blue', alpha=1)     #colore (per esempio 'r+' per avere)\n",
        "plt.xlabel(\"x\")                                     #croci rosse); alpha=numero per la trasparenza\n",
        "plt.ylabel(\"y\")                         "
      ],
      "execution_count": 744,
      "outputs": [
        {
          "output_type": "execute_result",
          "data": {
            "text/plain": [
              "Text(0, 0.5, 'y')"
            ]
          },
          "metadata": {
            "tags": []
          },
          "execution_count": 744
        },
        {
          "output_type": "display_data",
          "data": {
            "image/png": "[encoded data removed]",
            "text/plain": [
              "<Figure size 432x288 with 1 Axes>"
            ]
          },
          "metadata": {
            "tags": [],
            "needs_background": "light"
          }
        }
      ]
    },
    {
      "cell_type": "code",
      "metadata": {
        "colab": {
          "base_uri": "https://localhost:8080/",
          "height": 301
        },
        "id": "lm6gPJ0tVChX",
        "outputId": "c90dcc59-c840-4501-c9e6-51d8a741589b"
      },
      "source": [
        "fig = plt.figure()\n",
        "ax1 = fig.add_subplot(121)\n",
        "ax2 = fig.add_subplot(122)\n",
        "ax1.set_xlabel(\"some range\")\n",
        "ax2.set_xlabel(\"some other range\")\n",
        "ax1.set_ylabel(\"some other range\")"
      ],
      "execution_count": 739,
      "outputs": [
        {
          "output_type": "execute_result",
          "data": {
            "text/plain": [
              "Text(0, 0.5, 'some other range')"
            ]
          },
          "metadata": {
            "tags": []
          },
          "execution_count": 739
        },
        {
          "output_type": "display_data",
          "data": {
            "image/png": "[encoded data removed]",
            "text/plain": [
              "<Figure size 432x288 with 2 Axes>"
            ]
          },
          "metadata": {
            "tags": [],
            "needs_background": "light"
          }
        }
      ]
    },
    {
      "cell_type": "code",
      "metadata": {
        "id": "mU8tKoiSW7lB"
      },
      "source": [
        "#plt.imshow()"
      ],
      "execution_count": 746,
      "outputs": []
    }
  ]
}