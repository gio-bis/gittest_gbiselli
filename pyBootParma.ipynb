{
  "nbformat": 4,
  "nbformat_minor": 0,
  "metadata": {
    "colab": {
      "name": "pyBootParma.ipynb",
      "provenance": [],
      "authorship_tag": "ABX9TyPFEZ6G2UNe+Q5bcmsZMZ9b",
      "include_colab_link": true
    },
    "kernelspec": {
      "name": "python3",
      "display_name": "Python 3"
    }
  },
  "cells": [
    {
      "cell_type": "markdown",
      "metadata": {
        "id": "view-in-github",
        "colab_type": "text"
      },
      "source": [
        "<a href=\"https://colab.research.google.com/github/gio-bis/gittest_gbiselli/blob/main/pyBootParma.ipynb\" target=\"_parent\"><img src=\"https://colab.research.google.com/assets/colab-badge.svg\" alt=\"Open In Colab\"/></a>"
      ]
    },
    {
      "cell_type": "code",
      "metadata": {
        "id": "N5ZjIeDLWTuR"
      },
      "source": [
        ""
      ],
      "execution_count": 5,
      "outputs": []
    },
    {
      "cell_type": "markdown",
      "metadata": {
        "id": "Mm2SsDdOW1K-"
      },
      "source": [
        "# hello"
      ]
    },
    {
      "cell_type": "markdown",
      "metadata": {
        "id": "sli4aiEfXYka"
      },
      "source": [
        "Questa è una prova per imparare cose\n"
      ]
    },
    {
      "cell_type": "code",
      "metadata": {
        "id": "7WGKOEPEXeAT"
      },
      "source": [
        "# bla bla bla"
      ],
      "execution_count": 6,
      "outputs": []
    },
    {
      "cell_type": "code",
      "metadata": {
        "colab": {
          "base_uri": "https://localhost:8080/"
        },
        "id": "plhTmPErdDgl",
        "outputId": "a822e14b-9701-46d2-a665-fa292567358b"
      },
      "source": [
        "print (\"hello\")"
      ],
      "execution_count": 7,
      "outputs": [
        {
          "output_type": "stream",
          "text": [
            "hello\n"
          ],
          "name": "stdout"
        }
      ]
    },
    {
      "cell_type": "code",
      "metadata": {
        "id": "PFPcNmU_drRF"
      },
      "source": [
        "from __future__ import print_function, division"
      ],
      "execution_count": 8,
      "outputs": []
    },
    {
      "cell_type": "code",
      "metadata": {
        "id": "lneAxd4pekD-"
      },
      "source": [
        "stringVariable = \"hello!\""
      ],
      "execution_count": 9,
      "outputs": []
    },
    {
      "cell_type": "code",
      "metadata": {
        "colab": {
          "base_uri": "https://localhost:8080/"
        },
        "id": "mzym2hQ5gAh-",
        "outputId": "a25fab13-216c-4c0d-d638-0b256592101f"
      },
      "source": [
        "print (stringVariable)"
      ],
      "execution_count": 10,
      "outputs": [
        {
          "output_type": "stream",
          "text": [
            "hello!\n"
          ],
          "name": "stdout"
        }
      ]
    },
    {
      "cell_type": "code",
      "metadata": {
        "colab": {
          "base_uri": "https://localhost:8080/"
        },
        "id": "fTR4iKLPgHXJ",
        "outputId": "0295a472-e809-4120-e601-8ae4fd7c1ab9"
      },
      "source": [
        "print (stringVariable)"
      ],
      "execution_count": 11,
      "outputs": [
        {
          "output_type": "stream",
          "text": [
            "hello!\n"
          ],
          "name": "stdout"
        }
      ]
    },
    {
      "cell_type": "code",
      "metadata": {
        "id": "fzEEequxgfvE"
      },
      "source": [
        "intVariable = 3"
      ],
      "execution_count": 12,
      "outputs": []
    },
    {
      "cell_type": "code",
      "metadata": {
        "colab": {
          "base_uri": "https://localhost:8080/"
        },
        "id": "WZYHee_HhA5Z",
        "outputId": "d26cae12-adaa-424d-db4b-4862c1ebce05"
      },
      "source": [
        "type(intVariable)"
      ],
      "execution_count": 13,
      "outputs": [
        {
          "output_type": "execute_result",
          "data": {
            "text/plain": [
              "int"
            ]
          },
          "metadata": {
            "tags": []
          },
          "execution_count": 13
        }
      ]
    },
    {
      "cell_type": "code",
      "metadata": {
        "colab": {
          "base_uri": "https://localhost:8080/"
        },
        "id": "jkLlgWNBhFA4",
        "outputId": "2ca03b06-8c79-45c0-9024-6bedf28bf70e"
      },
      "source": [
        "type(stringVariable)"
      ],
      "execution_count": 14,
      "outputs": [
        {
          "output_type": "execute_result",
          "data": {
            "text/plain": [
              "str"
            ]
          },
          "metadata": {
            "tags": []
          },
          "execution_count": 14
        }
      ]
    },
    {
      "cell_type": "code",
      "metadata": {
        "id": "nVvsG8jchH5f"
      },
      "source": [
        "floatVariable = 3."
      ],
      "execution_count": 15,
      "outputs": []
    },
    {
      "cell_type": "code",
      "metadata": {
        "colab": {
          "base_uri": "https://localhost:8080/"
        },
        "id": "QY0VMzJghMDL",
        "outputId": "3d9062d6-8b31-490a-82c1-05dc343092ae"
      },
      "source": [
        "type(floatVariable)"
      ],
      "execution_count": 16,
      "outputs": [
        {
          "output_type": "execute_result",
          "data": {
            "text/plain": [
              "float"
            ]
          },
          "metadata": {
            "tags": []
          },
          "execution_count": 16
        }
      ]
    },
    {
      "cell_type": "code",
      "metadata": {
        "colab": {
          "base_uri": "https://localhost:8080/"
        },
        "id": "0-IVStZFhOTF",
        "outputId": "d4e991db-f723-49f9-98bd-02f5b5ed8392"
      },
      "source": [
        "5 * 2"
      ],
      "execution_count": 17,
      "outputs": [
        {
          "output_type": "execute_result",
          "data": {
            "text/plain": [
              "10"
            ]
          },
          "metadata": {
            "tags": []
          },
          "execution_count": 17
        }
      ]
    },
    {
      "cell_type": "code",
      "metadata": {
        "colab": {
          "base_uri": "https://localhost:8080/"
        },
        "id": "GFKmhLCahQY6",
        "outputId": "402d2604-f0f3-49a5-83e5-801ea22a7c0e"
      },
      "source": [
        "intVariable * floatVariable"
      ],
      "execution_count": 18,
      "outputs": [
        {
          "output_type": "execute_result",
          "data": {
            "text/plain": [
              "9.0"
            ]
          },
          "metadata": {
            "tags": []
          },
          "execution_count": 18
        }
      ]
    },
    {
      "cell_type": "code",
      "metadata": {
        "colab": {
          "base_uri": "https://localhost:8080/"
        },
        "id": "lqLtyCWXhVHv",
        "outputId": "467199a6-c229-4637-b33b-30c9220eaee6"
      },
      "source": [
        "int(intVariable * floatVariable)"
      ],
      "execution_count": 19,
      "outputs": [
        {
          "output_type": "execute_result",
          "data": {
            "text/plain": [
              "9"
            ]
          },
          "metadata": {
            "tags": []
          },
          "execution_count": 19
        }
      ]
    },
    {
      "cell_type": "code",
      "metadata": {
        "colab": {
          "base_uri": "https://localhost:8080/",
          "height": 35
        },
        "id": "z7bdErm9h_Lo",
        "outputId": "5ee33d84-eeb5-4e9b-e204-47639bc60a5b"
      },
      "source": [
        "str(intVariable * floatVariable)"
      ],
      "execution_count": 20,
      "outputs": [
        {
          "output_type": "execute_result",
          "data": {
            "application/vnd.google.colaboratory.intrinsic+json": {
              "type": "string"
            },
            "text/plain": [
              "'9.0'"
            ]
          },
          "metadata": {
            "tags": []
          },
          "execution_count": 20
        }
      ]
    },
    {
      "cell_type": "code",
      "metadata": {
        "id": "-5-cCeSviBUx"
      },
      "source": [
        "boolVar = True"
      ],
      "execution_count": 21,
      "outputs": []
    },
    {
      "cell_type": "code",
      "metadata": {
        "colab": {
          "base_uri": "https://localhost:8080/"
        },
        "id": "5AOt9CIeiOVR",
        "outputId": "844f5b3b-3b42-4995-d76e-cab6e03e794f"
      },
      "source": [
        "boolVar"
      ],
      "execution_count": 22,
      "outputs": [
        {
          "output_type": "execute_result",
          "data": {
            "text/plain": [
              "True"
            ]
          },
          "metadata": {
            "tags": []
          },
          "execution_count": 22
        }
      ]
    },
    {
      "cell_type": "code",
      "metadata": {
        "colab": {
          "base_uri": "https://localhost:8080/"
        },
        "id": "uIDxkBeyiRKj",
        "outputId": "1e3f03f1-a59e-41fd-abdc-abb3f99f140c"
      },
      "source": [
        "(type(floatVariable) == float)"
      ],
      "execution_count": 23,
      "outputs": [
        {
          "output_type": "execute_result",
          "data": {
            "text/plain": [
              "True"
            ]
          },
          "metadata": {
            "tags": []
          },
          "execution_count": 23
        }
      ]
    },
    {
      "cell_type": "code",
      "metadata": {
        "colab": {
          "base_uri": "https://localhost:8080/"
        },
        "id": "maY4ZClyiakG",
        "outputId": "5735f7de-5872-4449-b26c-ed0810b2e8d7"
      },
      "source": [
        "if type(floatVariable) == float:\n",
        "  print(\"yes its a float\")"
      ],
      "execution_count": 24,
      "outputs": [
        {
          "output_type": "stream",
          "text": [
            "yes its a float\n"
          ],
          "name": "stdout"
        }
      ]
    },
    {
      "cell_type": "code",
      "metadata": {
        "colab": {
          "base_uri": "https://localhost:8080/"
        },
        "id": "Gc7ljOugivHv",
        "outputId": "8d2c26d1-9df9-4a48-bee8-e7cdbe8f00fb"
      },
      "source": [
        "if not type(floatVariable) == float:\n",
        "  print(\"yes its a float\")\n",
        "else : \n",
        "  print (\"yes\")"
      ],
      "execution_count": 25,
      "outputs": [
        {
          "output_type": "stream",
          "text": [
            "yes\n"
          ],
          "name": "stdout"
        }
      ]
    },
    {
      "cell_type": "code",
      "metadata": {
        "colab": {
          "base_uri": "https://localhost:8080/"
        },
        "id": "xPAhnGtLi1yT",
        "outputId": "325c0f7c-b95f-486e-ab4f-104ece6fc61a"
      },
      "source": [
        "if 0:\n",
        "  print(\"no\")\n",
        "else :\n",
        "  print (\"yes\")\n"
      ],
      "execution_count": 26,
      "outputs": [
        {
          "output_type": "stream",
          "text": [
            "yes\n"
          ],
          "name": "stdout"
        }
      ]
    },
    {
      "cell_type": "code",
      "metadata": {
        "colab": {
          "base_uri": "https://localhost:8080/"
        },
        "id": "b0nTArRwjadK",
        "outputId": "b419bbdb-367c-435d-9eea-2ff693631527"
      },
      "source": [
        "if -1:\n",
        "  print(\"yes\")\n",
        "else :\n",
        "  print (\"no\")"
      ],
      "execution_count": 27,
      "outputs": [
        {
          "output_type": "stream",
          "text": [
            "yes\n"
          ],
          "name": "stdout"
        }
      ]
    },
    {
      "cell_type": "code",
      "metadata": {
        "colab": {
          "base_uri": "https://localhost:8080/"
        },
        "id": "0qClsOKbjdQU",
        "outputId": "11244fff-8513-44a3-8ac0-2eec52910566"
      },
      "source": [
        "if type(floatVariable) == float or floatVariable < 0:\n",
        "  print (\"yes its a float > 1\")"
      ],
      "execution_count": 28,
      "outputs": [
        {
          "output_type": "stream",
          "text": [
            "yes its a float > 1\n"
          ],
          "name": "stdout"
        }
      ]
    },
    {
      "cell_type": "code",
      "metadata": {
        "id": "cLFyKj7Dj1NE",
        "colab": {
          "base_uri": "https://localhost:8080/"
        },
        "outputId": "57c4ff8b-0501-4b08-96cd-a53b1ba9c61a"
      },
      "source": [
        "for a in range(10):\n",
        "  print(a)\n",
        "  "
      ],
      "execution_count": 29,
      "outputs": [
        {
          "output_type": "stream",
          "text": [
            "0\n",
            "1\n",
            "2\n",
            "3\n",
            "4\n",
            "5\n",
            "6\n",
            "7\n",
            "8\n",
            "9\n"
          ],
          "name": "stdout"
        }
      ]
    },
    {
      "cell_type": "code",
      "metadata": {
        "colab": {
          "base_uri": "https://localhost:8080/"
        },
        "id": "2yZOvIzJZBLk",
        "outputId": "a183f622-01b0-43cf-e781-879e8d52c0d7"
      },
      "source": [
        "a = 0\n",
        "while a is not 10:\n",
        "  a =a+1\n",
        "  print(a)"
      ],
      "execution_count": 30,
      "outputs": [
        {
          "output_type": "stream",
          "text": [
            "1\n",
            "2\n",
            "3\n",
            "4\n",
            "5\n",
            "6\n",
            "7\n",
            "8\n",
            "9\n",
            "10\n"
          ],
          "name": "stdout"
        }
      ]
    },
    {
      "cell_type": "code",
      "metadata": {
        "id": "lczaVJcjZ1Ve"
      },
      "source": [
        ""
      ],
      "execution_count": 30,
      "outputs": []
    },
    {
      "cell_type": "markdown",
      "metadata": {
        "id": "U6v4Bs-8aNao"
      },
      "source": [
        "variable containers\n"
      ]
    },
    {
      "cell_type": "code",
      "metadata": {
        "colab": {
          "base_uri": "https://localhost:8080/"
        },
        "id": "fw8u16GdaMJR",
        "outputId": "ea2ea2be-60ee-47d1-fa82-62df16d012b7"
      },
      "source": [
        "myList = [0, 1, 3, \"hello\", 3.3]\n",
        "myList"
      ],
      "execution_count": 31,
      "outputs": [
        {
          "output_type": "execute_result",
          "data": {
            "text/plain": [
              "[0, 1, 3, 'hello', 3.3]"
            ]
          },
          "metadata": {
            "tags": []
          },
          "execution_count": 31
        }
      ]
    },
    {
      "cell_type": "code",
      "metadata": {
        "id": "m26DZfcJaxYT"
      },
      "source": [
        ""
      ],
      "execution_count": 31,
      "outputs": []
    },
    {
      "cell_type": "code",
      "metadata": {
        "colab": {
          "base_uri": "https://localhost:8080/"
        },
        "id": "pMKGBiD-aYqo",
        "outputId": "5bf57197-aba6-466d-9f63-72385993096f"
      },
      "source": [
        "type(myList)"
      ],
      "execution_count": 32,
      "outputs": [
        {
          "output_type": "execute_result",
          "data": {
            "text/plain": [
              "list"
            ]
          },
          "metadata": {
            "tags": []
          },
          "execution_count": 32
        }
      ]
    },
    {
      "cell_type": "code",
      "metadata": {
        "colab": {
          "base_uri": "https://localhost:8080/"
        },
        "id": "qh8CTJfnazkA",
        "outputId": "d95d5e84-b1cc-43c8-9115-0c8057de1dc7"
      },
      "source": [
        "myList = [0, 1, 3, \"hello\", 3.3, [0, 2, 3.3]]\n",
        "myList"
      ],
      "execution_count": 33,
      "outputs": [
        {
          "output_type": "execute_result",
          "data": {
            "text/plain": [
              "[0, 1, 3, 'hello', 3.3, [0, 2, 3.3]]"
            ]
          },
          "metadata": {
            "tags": []
          },
          "execution_count": 33
        }
      ]
    },
    {
      "cell_type": "code",
      "metadata": {
        "colab": {
          "base_uri": "https://localhost:8080/"
        },
        "id": "P1y2Xulca6L6",
        "outputId": "bc65c7e5-5657-4fea-b831-78b8ac1f67d5"
      },
      "source": [
        "myList[-1]"
      ],
      "execution_count": 34,
      "outputs": [
        {
          "output_type": "execute_result",
          "data": {
            "text/plain": [
              "[0, 2, 3.3]"
            ]
          },
          "metadata": {
            "tags": []
          },
          "execution_count": 34
        }
      ]
    },
    {
      "cell_type": "code",
      "metadata": {
        "id": "UAE9RijwbBSU"
      },
      "source": [
        "intVariable = 3\n",
        "floatVariable = 3."
      ],
      "execution_count": 35,
      "outputs": []
    },
    {
      "cell_type": "code",
      "metadata": {
        "colab": {
          "base_uri": "https://localhost:8080/"
        },
        "id": "05pTnWEbbg-8",
        "outputId": "1f9bcc0d-2b44-4c85-dbea-c460c0381c6a"
      },
      "source": [
        "myList + myList"
      ],
      "execution_count": 36,
      "outputs": [
        {
          "output_type": "execute_result",
          "data": {
            "text/plain": [
              "[0, 1, 3, 'hello', 3.3, [0, 2, 3.3], 0, 1, 3, 'hello', 3.3, [0, 2, 3.3]]"
            ]
          },
          "metadata": {
            "tags": []
          },
          "execution_count": 36
        }
      ]
    },
    {
      "cell_type": "code",
      "metadata": {
        "colab": {
          "base_uri": "https://localhost:8080/"
        },
        "id": "Ra6PCpgjbmAr",
        "outputId": "64657125-f7ee-460b-efd9-0c6327f3305c"
      },
      "source": [
        "print(\"here I am in Parma but I am stuck in appartment due to lockdown\" +\n",
        "      \"and I don't like it\")"
      ],
      "execution_count": 37,
      "outputs": [
        {
          "output_type": "stream",
          "text": [
            "here I am in Parma but I am stuck in appartment due to lockdownand I don't like it\n"
          ],
          "name": "stdout"
        }
      ]
    },
    {
      "cell_type": "code",
      "metadata": {
        "colab": {
          "base_uri": "https://localhost:8080/"
        },
        "id": "MVnz6Y0Jb9Il",
        "outputId": "ef817193-8277-4269-e4b3-9920b5437a3c"
      },
      "source": [
        "tmplist = []\n",
        "a = 0\n",
        "while a**2 < 300:\n",
        "  a =a+1\n",
        "  tmplist.append(a**2)\n",
        "tmplist"
      ],
      "execution_count": 38,
      "outputs": [
        {
          "output_type": "execute_result",
          "data": {
            "text/plain": [
              "[1, 4, 9, 16, 25, 36, 49, 64, 81, 100, 121, 144, 169, 196, 225, 256, 289, 324]"
            ]
          },
          "metadata": {
            "tags": []
          },
          "execution_count": 38
        }
      ]
    },
    {
      "cell_type": "markdown",
      "metadata": {
        "id": "Npsiz67_cfc9"
      },
      "source": [
        "List are really useful cause they can contain hybrid types and because they do not need to be allocated memory before they are filled so I can append things on the fly"
      ]
    },
    {
      "cell_type": "markdown",
      "metadata": {
        "id": "31jjcDvqdPm-"
      },
      "source": [
        "List are also computationally inefficient"
      ]
    },
    {
      "cell_type": "code",
      "metadata": {
        "id": "i0qNJL38deGf"
      },
      "source": [
        "dictVariable = {\"keyInt\": 0,\n",
        "                \"keyFloat\": 0.3,\n",
        "                \"keyString\": \"Im a string\",\n",
        "                \"keyDict\": {} }"
      ],
      "execution_count": 39,
      "outputs": []
    },
    {
      "cell_type": "code",
      "metadata": {
        "colab": {
          "base_uri": "https://localhost:8080/"
        },
        "id": "CrYBEiD7eBsF",
        "outputId": "3412ea44-9066-4f72-b9dc-5525678b839d"
      },
      "source": [
        "dictVariable"
      ],
      "execution_count": 40,
      "outputs": [
        {
          "output_type": "execute_result",
          "data": {
            "text/plain": [
              "{'keyDict': {}, 'keyFloat': 0.3, 'keyInt': 0, 'keyString': 'Im a string'}"
            ]
          },
          "metadata": {
            "tags": []
          },
          "execution_count": 40
        }
      ]
    },
    {
      "cell_type": "markdown",
      "metadata": {
        "id": "H8qXLVhLqkwO"
      },
      "source": [
        "L'ordine non è preservato"
      ]
    },
    {
      "cell_type": "markdown",
      "metadata": {
        "id": "iR0R1BINqolZ"
      },
      "source": [
        "Si può aggiungere qualcosa al dictionary:"
      ]
    },
    {
      "cell_type": "code",
      "metadata": {
        "id": "2mmQKPFSeFp0"
      },
      "source": [
        "dictVariable[\"keyList\"] = [] "
      ],
      "execution_count": 41,
      "outputs": []
    },
    {
      "cell_type": "code",
      "metadata": {
        "colab": {
          "base_uri": "https://localhost:8080/"
        },
        "id": "SmbBSHsZeNpi",
        "outputId": "f1116d43-d5c3-4abd-cea7-2724c67afd16"
      },
      "source": [
        "dictVariable"
      ],
      "execution_count": 42,
      "outputs": [
        {
          "output_type": "execute_result",
          "data": {
            "text/plain": [
              "{'keyDict': {},\n",
              " 'keyFloat': 0.3,\n",
              " 'keyInt': 0,\n",
              " 'keyList': [],\n",
              " 'keyString': 'Im a string'}"
            ]
          },
          "metadata": {
            "tags": []
          },
          "execution_count": 42
        }
      ]
    },
    {
      "cell_type": "code",
      "metadata": {
        "id": "T6GCW71heQq2"
      },
      "source": [
        "dictVariable[\"keyList\"].append(0)"
      ],
      "execution_count": 43,
      "outputs": []
    },
    {
      "cell_type": "code",
      "metadata": {
        "colab": {
          "base_uri": "https://localhost:8080/"
        },
        "id": "vec2ZGa0eZwP",
        "outputId": "49afdaba-6367-4284-ffc2-2a8fdafb1101"
      },
      "source": [
        "dictVariable"
      ],
      "execution_count": 44,
      "outputs": [
        {
          "output_type": "execute_result",
          "data": {
            "text/plain": [
              "{'keyDict': {},\n",
              " 'keyFloat': 0.3,\n",
              " 'keyInt': 0,\n",
              " 'keyList': [0],\n",
              " 'keyString': 'Im a string'}"
            ]
          },
          "metadata": {
            "tags": []
          },
          "execution_count": 44
        }
      ]
    },
    {
      "cell_type": "code",
      "metadata": {
        "id": "E2pZaxuvedPn"
      },
      "source": [
        "dictVariable[\"keyDict\"]['nested1'] = 0.1"
      ],
      "execution_count": 45,
      "outputs": []
    },
    {
      "cell_type": "code",
      "metadata": {
        "id": "uvHUuXM5emlf"
      },
      "source": [
        "dictVariable[\"keyDict\"]['nested2'] = {}"
      ],
      "execution_count": 46,
      "outputs": []
    },
    {
      "cell_type": "code",
      "metadata": {
        "colab": {
          "base_uri": "https://localhost:8080/"
        },
        "id": "1XGRpj7Teq-e",
        "outputId": "3fa1233b-ed6a-44a6-8331-8fd5f17462a4"
      },
      "source": [
        "dictVariable"
      ],
      "execution_count": 47,
      "outputs": [
        {
          "output_type": "execute_result",
          "data": {
            "text/plain": [
              "{'keyDict': {'nested1': 0.1, 'nested2': {}},\n",
              " 'keyFloat': 0.3,\n",
              " 'keyInt': 0,\n",
              " 'keyList': [0],\n",
              " 'keyString': 'Im a string'}"
            ]
          },
          "metadata": {
            "tags": []
          },
          "execution_count": 47
        }
      ]
    },
    {
      "cell_type": "code",
      "metadata": {
        "id": "8i2gtVHDf5sj"
      },
      "source": [
        "stringVariable = \"hello!\""
      ],
      "execution_count": 48,
      "outputs": []
    },
    {
      "cell_type": "code",
      "metadata": {
        "colab": {
          "base_uri": "https://localhost:8080/",
          "height": 35
        },
        "id": "02-kBTP8f-E6",
        "outputId": "71093928-c596-4a8e-da26-e04c7361312c"
      },
      "source": [
        "stringVariable.capitalize()"
      ],
      "execution_count": 49,
      "outputs": [
        {
          "output_type": "execute_result",
          "data": {
            "application/vnd.google.colaboratory.intrinsic+json": {
              "type": "string"
            },
            "text/plain": [
              "'Hello!'"
            ]
          },
          "metadata": {
            "tags": []
          },
          "execution_count": 49
        }
      ]
    },
    {
      "cell_type": "code",
      "metadata": {
        "colab": {
          "base_uri": "https://localhost:8080/",
          "height": 35
        },
        "id": "-FCpOcyLgDLQ",
        "outputId": "e467c60e-31be-428d-a166-51c7b794fe0c"
      },
      "source": [
        "stringVariable.replace(\"!\", '')"
      ],
      "execution_count": 50,
      "outputs": [
        {
          "output_type": "execute_result",
          "data": {
            "application/vnd.google.colaboratory.intrinsic+json": {
              "type": "string"
            },
            "text/plain": [
              "'hello'"
            ]
          },
          "metadata": {
            "tags": []
          },
          "execution_count": 50
        }
      ]
    },
    {
      "cell_type": "code",
      "metadata": {
        "colab": {
          "base_uri": "https://localhost:8080/"
        },
        "id": "JDPHSbkpgT6O",
        "outputId": "6f7a7db4-6eac-4574-f3cd-83c4461521d9"
      },
      "source": [
        "print(\"Hello 'you' \")"
      ],
      "execution_count": 51,
      "outputs": [
        {
          "output_type": "stream",
          "text": [
            "Hello 'you' \n"
          ],
          "name": "stdout"
        }
      ]
    },
    {
      "cell_type": "code",
      "metadata": {
        "id": "s6rUhNtBjFqN"
      },
      "source": [
        "import numpy"
      ],
      "execution_count": 52,
      "outputs": []
    },
    {
      "cell_type": "code",
      "metadata": {
        "colab": {
          "base_uri": "https://localhost:8080/"
        },
        "id": "bep55K9kjIc5",
        "outputId": "3fb21c75-8f9d-4f8c-971c-1d5477d8ed2f"
      },
      "source": [
        "numpy.abs(-3)"
      ],
      "execution_count": 53,
      "outputs": [
        {
          "output_type": "execute_result",
          "data": {
            "text/plain": [
              "3"
            ]
          },
          "metadata": {
            "tags": []
          },
          "execution_count": 53
        }
      ]
    },
    {
      "cell_type": "code",
      "metadata": {
        "id": "125ysRz6jOHj"
      },
      "source": [
        "import numpy as np"
      ],
      "execution_count": 54,
      "outputs": []
    },
    {
      "cell_type": "code",
      "metadata": {
        "colab": {
          "base_uri": "https://localhost:8080/"
        },
        "id": "mY_9VmY0jQ6k",
        "outputId": "02a3c38c-a68f-4d09-cff9-8b70586bffb0"
      },
      "source": [
        "np.abs(-3)"
      ],
      "execution_count": 55,
      "outputs": [
        {
          "output_type": "execute_result",
          "data": {
            "text/plain": [
              "3"
            ]
          },
          "metadata": {
            "tags": []
          },
          "execution_count": 55
        }
      ]
    },
    {
      "cell_type": "code",
      "metadata": {
        "id": "yxXUb7mw781H"
      },
      "source": [
        "from matplotlib import pylab as plt"
      ],
      "execution_count": 66,
      "outputs": []
    },
    {
      "cell_type": "code",
      "metadata": {
        "colab": {
          "base_uri": "https://localhost:8080/",
          "height": 265
        },
        "id": "qYhjttbu8H8k",
        "outputId": "23aeeaba-9ca1-4407-8118-ea617c85e7c2"
      },
      "source": [
        "plt.plot(range(10), np.zeros(10));"
      ],
      "execution_count": 68,
      "outputs": [
        {
          "output_type": "display_data",
          "data": {
            "image/png": "[encoded data removed]",
            "text/plain": [
              "<Figure size 432x288 with 1 Axes>"
            ]
          },
          "metadata": {
            "tags": [],
            "needs_background": "light"
          }
        }
      ]
    },
    {
      "cell_type": "markdown",
      "metadata": {
        "id": "xAhQ1RsE_BON"
      },
      "source": [
        "#never import as\n",
        "#from something import * to preserve the namespace (overwrite the memory)"
      ]
    },
    {
      "cell_type": "code",
      "metadata": {
        "colab": {
          "base_uri": "https://localhost:8080/"
        },
        "id": "XknfHD-UjrE6",
        "outputId": "184f823f-3d93-419e-8fe6-c02757f5bc83"
      },
      "source": [
        "np.int16(3)"
      ],
      "execution_count": 58,
      "outputs": [
        {
          "output_type": "execute_result",
          "data": {
            "text/plain": [
              "3"
            ]
          },
          "metadata": {
            "tags": []
          },
          "execution_count": 58
        }
      ]
    },
    {
      "cell_type": "code",
      "metadata": {
        "colab": {
          "base_uri": "https://localhost:8080/"
        },
        "id": "eoInaubrktH4",
        "outputId": "2c56667d-72e6-42db-bbc5-662d3cb34473"
      },
      "source": [
        "np.uint8(255)"
      ],
      "execution_count": 59,
      "outputs": [
        {
          "output_type": "execute_result",
          "data": {
            "text/plain": [
              "255"
            ]
          },
          "metadata": {
            "tags": []
          },
          "execution_count": 59
        }
      ]
    },
    {
      "cell_type": "code",
      "metadata": {
        "colab": {
          "base_uri": "https://localhost:8080/"
        },
        "id": "PlYqRFs1luzX",
        "outputId": "7f163f3d-8fd9-4c68-d1da-92d0e84700af"
      },
      "source": [
        "myList"
      ],
      "execution_count": 60,
      "outputs": [
        {
          "output_type": "execute_result",
          "data": {
            "text/plain": [
              "[0, 1, 3, 'hello', 3.3, [0, 2, 3.3]]"
            ]
          },
          "metadata": {
            "tags": []
          },
          "execution_count": 60
        }
      ]
    },
    {
      "cell_type": "code",
      "metadata": {
        "colab": {
          "base_uri": "https://localhost:8080/"
        },
        "id": "MLwkIasdmJaP",
        "outputId": "29baa616-6a4a-427e-9d65-aab6643ff207"
      },
      "source": [
        "np.array(myList)"
      ],
      "execution_count": 61,
      "outputs": [
        {
          "output_type": "stream",
          "text": [
            "/usr/local/lib/python3.7/dist-packages/ipykernel_launcher.py:1: VisibleDeprecationWarning: Creating an ndarray from ragged nested sequences (which is a list-or-tuple of lists-or-tuples-or ndarrays with different lengths or shapes) is deprecated. If you meant to do this, you must specify 'dtype=object' when creating the ndarray\n",
            "  \"\"\"Entry point for launching an IPython kernel.\n"
          ],
          "name": "stderr"
        },
        {
          "output_type": "execute_result",
          "data": {
            "text/plain": [
              "array([0, 1, 3, 'hello', 3.3, list([0, 2, 3.3])], dtype=object)"
            ]
          },
          "metadata": {
            "tags": []
          },
          "execution_count": 61
        }
      ]
    },
    {
      "cell_type": "code",
      "metadata": {
        "colab": {
          "base_uri": "https://localhost:8080/"
        },
        "id": "5LkjH2aTmcCT",
        "outputId": "e14759bd-cbe4-4b11-bcc0-9d666a6622fb"
      },
      "source": [
        "np.ones(75)"
      ],
      "execution_count": 62,
      "outputs": [
        {
          "output_type": "execute_result",
          "data": {
            "text/plain": [
              "array([1., 1., 1., 1., 1., 1., 1., 1., 1., 1., 1., 1., 1., 1., 1., 1., 1.,\n",
              "       1., 1., 1., 1., 1., 1., 1., 1., 1., 1., 1., 1., 1., 1., 1., 1., 1.,\n",
              "       1., 1., 1., 1., 1., 1., 1., 1., 1., 1., 1., 1., 1., 1., 1., 1., 1.,\n",
              "       1., 1., 1., 1., 1., 1., 1., 1., 1., 1., 1., 1., 1., 1., 1., 1., 1.,\n",
              "       1., 1., 1., 1., 1., 1., 1.])"
            ]
          },
          "metadata": {
            "tags": []
          },
          "execution_count": 62
        }
      ]
    },
    {
      "cell_type": "code",
      "metadata": {
        "id": "7qCzwUYOmuPe"
      },
      "source": [
        "tmparray = np.zeros(75, int).dtype"
      ],
      "execution_count": 63,
      "outputs": []
    },
    {
      "cell_type": "code",
      "metadata": {
        "colab": {
          "base_uri": "https://localhost:8080/",
          "height": 235
        },
        "id": "t3ibaxNWm85d",
        "outputId": "ed1afd96-29f2-484e-e8cb-09bc68ad7902"
      },
      "source": [
        " def ispalindrome(s):\n",
        "    return string == string[::-1]\n",
        " \n",
        "s = \"anna\"\n",
        "ans = isPalindrome(s)\n",
        " \n",
        "if ans:\n",
        "    print(\"Yes its a palindrome\")\n",
        "else:\n",
        "    print(\"This is not a palindrome\")"
      ],
      "execution_count": 64,
      "outputs": [
        {
          "output_type": "error",
          "ename": "NameError",
          "evalue": "ignored",
          "traceback": [
            "\u001b[0;31m---------------------------------------------------------------------------\u001b[0m",
            "\u001b[0;31mNameError\u001b[0m                                 Traceback (most recent call last)",
            "\u001b[0;32m<ipython-input-64-6634cfd6f8dc>\u001b[0m in \u001b[0;36m<module>\u001b[0;34m()\u001b[0m\n\u001b[1;32m      3\u001b[0m \u001b[0;34m\u001b[0m\u001b[0m\n\u001b[1;32m      4\u001b[0m \u001b[0ms\u001b[0m \u001b[0;34m=\u001b[0m \u001b[0;34m\"anna\"\u001b[0m\u001b[0;34m\u001b[0m\u001b[0;34m\u001b[0m\u001b[0m\n\u001b[0;32m----> 5\u001b[0;31m \u001b[0mans\u001b[0m \u001b[0;34m=\u001b[0m \u001b[0misPalindrome\u001b[0m\u001b[0;34m(\u001b[0m\u001b[0ms\u001b[0m\u001b[0;34m)\u001b[0m\u001b[0;34m\u001b[0m\u001b[0;34m\u001b[0m\u001b[0m\n\u001b[0m\u001b[1;32m      6\u001b[0m \u001b[0;34m\u001b[0m\u001b[0m\n\u001b[1;32m      7\u001b[0m \u001b[0;32mif\u001b[0m \u001b[0mans\u001b[0m\u001b[0;34m:\u001b[0m\u001b[0;34m\u001b[0m\u001b[0;34m\u001b[0m\u001b[0m\n",
            "\u001b[0;31mNameError\u001b[0m: name 'isPalindrome' is not defined"
          ]
        }
      ]
    },
    {
      "cell_type": "code",
      "metadata": {
        "id": "edDyiwjWuFn4"
      },
      "source": [
        "stringV = \"radar\""
      ],
      "execution_count": null,
      "outputs": []
    },
    {
      "cell_type": "code",
      "metadata": {
        "id": "Sg_pKXJ2uWip"
      },
      "source": [
        "stringV.lower() == stringV[::-1].lower()"
      ],
      "execution_count": null,
      "outputs": []
    },
    {
      "cell_type": "code",
      "metadata": {
        "id": "Rmr39P7MufrD"
      },
      "source": [
        "stringV[:int((len(stringV)) / 2 + 0.5)]"
      ],
      "execution_count": null,
      "outputs": []
    },
    {
      "cell_type": "code",
      "metadata": {
        "id": "8nntImqhvos2"
      },
      "source": [
        "from google.colab import drive\n",
        "drive.mount(\"/content/drive\")"
      ],
      "execution_count": null,
      "outputs": []
    },
    {
      "cell_type": "code",
      "metadata": {
        "id": "F6AHTN30vufm"
      },
      "source": [
        "ls"
      ],
      "execution_count": null,
      "outputs": []
    },
    {
      "cell_type": "code",
      "metadata": {
        "id": "jlctCL3DxEQr"
      },
      "source": [
        "cd drive"
      ],
      "execution_count": null,
      "outputs": []
    },
    {
      "cell_type": "code",
      "metadata": {
        "id": "6OafuWt_xGx4"
      },
      "source": [
        "ls "
      ],
      "execution_count": null,
      "outputs": []
    },
    {
      "cell_type": "code",
      "metadata": {
        "id": "udvFo7CjxSLD"
      },
      "source": [
        "cd MyDrive"
      ],
      "execution_count": null,
      "outputs": []
    },
    {
      "cell_type": "code",
      "metadata": {
        "id": "Sq_my0PbyLaH"
      },
      "source": [
        "cd ../"
      ],
      "execution_count": null,
      "outputs": []
    },
    {
      "cell_type": "code",
      "metadata": {
        "id": "4dVlCfquyid8"
      },
      "source": [
        "ls"
      ],
      "execution_count": null,
      "outputs": []
    },
    {
      "cell_type": "code",
      "metadata": {
        "id": "9_-0sYqoylmj"
      },
      "source": [
        ""
      ],
      "execution_count": null,
      "outputs": []
    }
  ]
}