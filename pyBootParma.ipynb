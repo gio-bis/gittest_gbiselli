{
  "nbformat": 4,
  "nbformat_minor": 0,
  "metadata": {
    "colab": {
      "name": "pyBootParma.ipynb",
      "provenance": [],
      "authorship_tag": "ABX9TyOr5afJQrURIw4pw5Lq5elr",
      "include_colab_link": true
    },
    "kernelspec": {
      "name": "python3",
      "display_name": "Python 3"
    }
  },
  "cells": [
    {
      "cell_type": "markdown",
      "metadata": {
        "id": "view-in-github",
        "colab_type": "text"
      },
      "source": [
        "<a href=\"https://colab.research.google.com/github/gio-bis/gittest_gbiselli/blob/main/pyBootParma.ipynb\" target=\"_parent\"><img src=\"https://colab.research.google.com/assets/colab-badge.svg\" alt=\"Open In Colab\"/></a>"
      ]
    },
    {
      "cell_type": "code",
      "metadata": {
        "colab": {
          "base_uri": "https://localhost:8080/"
        },
        "id": "plhTmPErdDgl",
        "outputId": "1b87c242-69d4-4d47-e449-d2fc8b8b027f"
      },
      "source": [
        "print (\"hello\")"
      ],
      "execution_count": 1,
      "outputs": [
        {
          "output_type": "stream",
          "text": [
            "hello\n"
          ],
          "name": "stdout"
        }
      ]
    },
    {
      "cell_type": "code",
      "metadata": {
        "id": "PFPcNmU_drRF"
      },
      "source": [
        "from __future__ import print_function, division"
      ],
      "execution_count": 5,
      "outputs": []
    },
    {
      "cell_type": "code",
      "metadata": {
        "id": "lneAxd4pekD-"
      },
      "source": [
        "stringVariable = \"hello!\""
      ],
      "execution_count": 7,
      "outputs": []
    },
    {
      "cell_type": "code",
      "metadata": {
        "colab": {
          "base_uri": "https://localhost:8080/"
        },
        "id": "mzym2hQ5gAh-",
        "outputId": "a7637a54-3a5b-4967-8c97-75ed96fe4fb1"
      },
      "source": [
        "print (stringVariable)"
      ],
      "execution_count": 8,
      "outputs": [
        {
          "output_type": "stream",
          "text": [
            "hello!\n"
          ],
          "name": "stdout"
        }
      ]
    },
    {
      "cell_type": "code",
      "metadata": {
        "colab": {
          "base_uri": "https://localhost:8080/"
        },
        "id": "fTR4iKLPgHXJ",
        "outputId": "42f4a4a6-229b-4274-b1fc-1d29dba9cb4a"
      },
      "source": [
        "print (stringVariable)"
      ],
      "execution_count": 9,
      "outputs": [
        {
          "output_type": "stream",
          "text": [
            "hello!\n"
          ],
          "name": "stdout"
        }
      ]
    },
    {
      "cell_type": "code",
      "metadata": {
        "id": "fzEEequxgfvE"
      },
      "source": [
        "intVariable = 3"
      ],
      "execution_count": 10,
      "outputs": []
    },
    {
      "cell_type": "code",
      "metadata": {
        "colab": {
          "base_uri": "https://localhost:8080/"
        },
        "id": "WZYHee_HhA5Z",
        "outputId": "df93722f-9ecd-4f98-aac2-b42330b67955"
      },
      "source": [
        "type(intVariable)"
      ],
      "execution_count": 11,
      "outputs": [
        {
          "output_type": "execute_result",
          "data": {
            "text/plain": [
              "int"
            ]
          },
          "metadata": {
            "tags": []
          },
          "execution_count": 11
        }
      ]
    },
    {
      "cell_type": "code",
      "metadata": {
        "colab": {
          "base_uri": "https://localhost:8080/"
        },
        "id": "jkLlgWNBhFA4",
        "outputId": "edd3150d-2ddc-486e-c7e6-8cab05d76833"
      },
      "source": [
        "type(stringVariable)"
      ],
      "execution_count": 12,
      "outputs": [
        {
          "output_type": "execute_result",
          "data": {
            "text/plain": [
              "str"
            ]
          },
          "metadata": {
            "tags": []
          },
          "execution_count": 12
        }
      ]
    },
    {
      "cell_type": "code",
      "metadata": {
        "id": "nVvsG8jchH5f"
      },
      "source": [
        "floatVariable = 3."
      ],
      "execution_count": 14,
      "outputs": []
    },
    {
      "cell_type": "code",
      "metadata": {
        "colab": {
          "base_uri": "https://localhost:8080/"
        },
        "id": "QY0VMzJghMDL",
        "outputId": "93f7c4fc-5df4-4a12-ea58-f96d6d85da83"
      },
      "source": [
        "type(floatVariable)"
      ],
      "execution_count": 15,
      "outputs": [
        {
          "output_type": "execute_result",
          "data": {
            "text/plain": [
              "float"
            ]
          },
          "metadata": {
            "tags": []
          },
          "execution_count": 15
        }
      ]
    },
    {
      "cell_type": "code",
      "metadata": {
        "colab": {
          "base_uri": "https://localhost:8080/"
        },
        "id": "0-IVStZFhOTF",
        "outputId": "9619ccf3-5c08-44bf-aeeb-0d7af9050460"
      },
      "source": [
        "5 * 2"
      ],
      "execution_count": 16,
      "outputs": [
        {
          "output_type": "execute_result",
          "data": {
            "text/plain": [
              "10"
            ]
          },
          "metadata": {
            "tags": []
          },
          "execution_count": 16
        }
      ]
    },
    {
      "cell_type": "code",
      "metadata": {
        "colab": {
          "base_uri": "https://localhost:8080/"
        },
        "id": "GFKmhLCahQY6",
        "outputId": "a0555984-113b-4c45-deb1-d5ad959c6077"
      },
      "source": [
        "intVariable * floatVariable"
      ],
      "execution_count": 17,
      "outputs": [
        {
          "output_type": "execute_result",
          "data": {
            "text/plain": [
              "9.0"
            ]
          },
          "metadata": {
            "tags": []
          },
          "execution_count": 17
        }
      ]
    },
    {
      "cell_type": "code",
      "metadata": {
        "colab": {
          "base_uri": "https://localhost:8080/"
        },
        "id": "lqLtyCWXhVHv",
        "outputId": "6d0fa4ea-dd6d-4133-d122-baf7c490c636"
      },
      "source": [
        "int(intVariable * floatVariable)"
      ],
      "execution_count": 18,
      "outputs": [
        {
          "output_type": "execute_result",
          "data": {
            "text/plain": [
              "9"
            ]
          },
          "metadata": {
            "tags": []
          },
          "execution_count": 18
        }
      ]
    },
    {
      "cell_type": "code",
      "metadata": {
        "colab": {
          "base_uri": "https://localhost:8080/",
          "height": 35
        },
        "id": "z7bdErm9h_Lo",
        "outputId": "249d5f81-36d1-4c62-b594-da6586f17be0"
      },
      "source": [
        "str(intVariable * floatVariable)"
      ],
      "execution_count": 19,
      "outputs": [
        {
          "output_type": "execute_result",
          "data": {
            "application/vnd.google.colaboratory.intrinsic+json": {
              "type": "string"
            },
            "text/plain": [
              "'9.0'"
            ]
          },
          "metadata": {
            "tags": []
          },
          "execution_count": 19
        }
      ]
    },
    {
      "cell_type": "code",
      "metadata": {
        "id": "-5-cCeSviBUx"
      },
      "source": [
        "boolVar = True"
      ],
      "execution_count": 21,
      "outputs": []
    },
    {
      "cell_type": "code",
      "metadata": {
        "colab": {
          "base_uri": "https://localhost:8080/"
        },
        "id": "5AOt9CIeiOVR",
        "outputId": "aab338ee-3321-4668-e933-cca4b4b1f45d"
      },
      "source": [
        "boolVar"
      ],
      "execution_count": 22,
      "outputs": [
        {
          "output_type": "execute_result",
          "data": {
            "text/plain": [
              "True"
            ]
          },
          "metadata": {
            "tags": []
          },
          "execution_count": 22
        }
      ]
    },
    {
      "cell_type": "code",
      "metadata": {
        "colab": {
          "base_uri": "https://localhost:8080/"
        },
        "id": "uIDxkBeyiRKj",
        "outputId": "00890d8b-d91c-434c-89b5-086518e20f78"
      },
      "source": [
        "(type(floatVariable) == float)"
      ],
      "execution_count": 23,
      "outputs": [
        {
          "output_type": "execute_result",
          "data": {
            "text/plain": [
              "True"
            ]
          },
          "metadata": {
            "tags": []
          },
          "execution_count": 23
        }
      ]
    },
    {
      "cell_type": "code",
      "metadata": {
        "colab": {
          "base_uri": "https://localhost:8080/"
        },
        "id": "maY4ZClyiakG",
        "outputId": "b63c19b6-f05c-49de-fb58-4711c031bb04"
      },
      "source": [
        "if type(floatVariable) == float:\r\n",
        "  print(\"yes its a float\")"
      ],
      "execution_count": 24,
      "outputs": [
        {
          "output_type": "stream",
          "text": [
            "yes its a float\n"
          ],
          "name": "stdout"
        }
      ]
    },
    {
      "cell_type": "code",
      "metadata": {
        "colab": {
          "base_uri": "https://localhost:8080/"
        },
        "id": "Gc7ljOugivHv",
        "outputId": "b7d6dda8-aeba-43a3-d5bb-fde7930278ad"
      },
      "source": [
        "if not type(floatVariable) == float:\r\n",
        "  print(\"yes its a float\")\r\n",
        "else : \r\n",
        "  print (\"yes\")"
      ],
      "execution_count": 27,
      "outputs": [
        {
          "output_type": "stream",
          "text": [
            "yes\n"
          ],
          "name": "stdout"
        }
      ]
    },
    {
      "cell_type": "code",
      "metadata": {
        "colab": {
          "base_uri": "https://localhost:8080/"
        },
        "id": "xPAhnGtLi1yT",
        "outputId": "b54934bc-7098-432b-e400-f31cffa60401"
      },
      "source": [
        "if 0:\r\n",
        "  print(\"no\")\r\n",
        "else :\r\n",
        "  print (\"yes\")\r\n"
      ],
      "execution_count": 30,
      "outputs": [
        {
          "output_type": "stream",
          "text": [
            "yes\n"
          ],
          "name": "stdout"
        }
      ]
    },
    {
      "cell_type": "code",
      "metadata": {
        "colab": {
          "base_uri": "https://localhost:8080/"
        },
        "id": "b0nTArRwjadK",
        "outputId": "a5da89d0-97b2-4689-cb3c-3761fcd1264a"
      },
      "source": [
        "if -1:\r\n",
        "  print(\"yes\")\r\n",
        "else :\r\n",
        "  print (\"no\")"
      ],
      "execution_count": 31,
      "outputs": [
        {
          "output_type": "stream",
          "text": [
            "no\n"
          ],
          "name": "stdout"
        }
      ]
    },
    {
      "cell_type": "code",
      "metadata": {
        "colab": {
          "base_uri": "https://localhost:8080/"
        },
        "id": "0qClsOKbjdQU",
        "outputId": "9446085a-e2bb-4d33-a1ae-9828ba842a9a"
      },
      "source": [
        "if type(floatVariable) == float or floatVariable < 0:\r\n",
        "  print (\"yes its a float > 1\")"
      ],
      "execution_count": 36,
      "outputs": [
        {
          "output_type": "stream",
          "text": [
            "yes its a float > 1\n"
          ],
          "name": "stdout"
        }
      ]
    },
    {
      "cell_type": "code",
      "metadata": {
        "id": "cLFyKj7Dj1NE"
      },
      "source": [
        ""
      ],
      "execution_count": null,
      "outputs": []
    }
  ]
}